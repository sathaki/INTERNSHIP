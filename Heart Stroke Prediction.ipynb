{
 "cells": [
  {
   "cell_type": "code",
   "execution_count": 1,
   "metadata": {},
   "outputs": [],
   "source": [
    "import numpy as np\n",
    "import pandas as pd\n",
    "import sklearn\n",
    "import seaborn as sns\n",
    "import matplotlib.pyplot as plt\n",
    "import warnings\n",
    "warnings.filterwarnings(\"ignore\")"
   ]
  },
  {
   "cell_type": "code",
   "execution_count": 2,
   "metadata": {},
   "outputs": [
    {
     "name": "stdout",
     "output_type": "stream",
     "text": [
      "C:\\Users\\SATHAKI PROSAD\\Desktop\n"
     ]
    }
   ],
   "source": [
    "cd C:\\Users\\SATHAKI PROSAD\\Desktop"
   ]
  },
  {
   "cell_type": "code",
   "execution_count": 3,
   "metadata": {},
   "outputs": [],
   "source": [
    "hr = pd.read_csv('Heart.csv')"
   ]
  },
  {
   "cell_type": "code",
   "execution_count": 4,
   "metadata": {},
   "outputs": [
    {
     "data": {
      "text/html": [
       "<div>\n",
       "<style scoped>\n",
       "    .dataframe tbody tr th:only-of-type {\n",
       "        vertical-align: middle;\n",
       "    }\n",
       "\n",
       "    .dataframe tbody tr th {\n",
       "        vertical-align: top;\n",
       "    }\n",
       "\n",
       "    .dataframe thead th {\n",
       "        text-align: right;\n",
       "    }\n",
       "</style>\n",
       "<table border=\"1\" class=\"dataframe\">\n",
       "  <thead>\n",
       "    <tr style=\"text-align: right;\">\n",
       "      <th></th>\n",
       "      <th>id</th>\n",
       "      <th>gender</th>\n",
       "      <th>age</th>\n",
       "      <th>hypertension</th>\n",
       "      <th>heart_disease</th>\n",
       "      <th>ever_married</th>\n",
       "      <th>work_type</th>\n",
       "      <th>Residence_type</th>\n",
       "      <th>avg_glucose_level</th>\n",
       "      <th>bmi</th>\n",
       "      <th>smoking_status</th>\n",
       "      <th>stroke</th>\n",
       "    </tr>\n",
       "  </thead>\n",
       "  <tbody>\n",
       "    <tr>\n",
       "      <th>0</th>\n",
       "      <td>30669</td>\n",
       "      <td>Male</td>\n",
       "      <td>3.0</td>\n",
       "      <td>0</td>\n",
       "      <td>0</td>\n",
       "      <td>No</td>\n",
       "      <td>children</td>\n",
       "      <td>Rural</td>\n",
       "      <td>95.12</td>\n",
       "      <td>18.0</td>\n",
       "      <td>NaN</td>\n",
       "      <td>0</td>\n",
       "    </tr>\n",
       "    <tr>\n",
       "      <th>1</th>\n",
       "      <td>30468</td>\n",
       "      <td>Male</td>\n",
       "      <td>58.0</td>\n",
       "      <td>1</td>\n",
       "      <td>0</td>\n",
       "      <td>Yes</td>\n",
       "      <td>Private</td>\n",
       "      <td>Urban</td>\n",
       "      <td>87.96</td>\n",
       "      <td>39.2</td>\n",
       "      <td>never smoked</td>\n",
       "      <td>0</td>\n",
       "    </tr>\n",
       "    <tr>\n",
       "      <th>2</th>\n",
       "      <td>16523</td>\n",
       "      <td>Female</td>\n",
       "      <td>8.0</td>\n",
       "      <td>0</td>\n",
       "      <td>0</td>\n",
       "      <td>No</td>\n",
       "      <td>Private</td>\n",
       "      <td>Urban</td>\n",
       "      <td>110.89</td>\n",
       "      <td>17.6</td>\n",
       "      <td>NaN</td>\n",
       "      <td>0</td>\n",
       "    </tr>\n",
       "    <tr>\n",
       "      <th>3</th>\n",
       "      <td>56543</td>\n",
       "      <td>Female</td>\n",
       "      <td>70.0</td>\n",
       "      <td>0</td>\n",
       "      <td>0</td>\n",
       "      <td>Yes</td>\n",
       "      <td>Private</td>\n",
       "      <td>Rural</td>\n",
       "      <td>69.04</td>\n",
       "      <td>35.9</td>\n",
       "      <td>formerly smoked</td>\n",
       "      <td>0</td>\n",
       "    </tr>\n",
       "    <tr>\n",
       "      <th>4</th>\n",
       "      <td>46136</td>\n",
       "      <td>Male</td>\n",
       "      <td>14.0</td>\n",
       "      <td>0</td>\n",
       "      <td>0</td>\n",
       "      <td>No</td>\n",
       "      <td>Never_worked</td>\n",
       "      <td>Rural</td>\n",
       "      <td>161.28</td>\n",
       "      <td>19.1</td>\n",
       "      <td>NaN</td>\n",
       "      <td>0</td>\n",
       "    </tr>\n",
       "    <tr>\n",
       "      <th>...</th>\n",
       "      <td>...</td>\n",
       "      <td>...</td>\n",
       "      <td>...</td>\n",
       "      <td>...</td>\n",
       "      <td>...</td>\n",
       "      <td>...</td>\n",
       "      <td>...</td>\n",
       "      <td>...</td>\n",
       "      <td>...</td>\n",
       "      <td>...</td>\n",
       "      <td>...</td>\n",
       "      <td>...</td>\n",
       "    </tr>\n",
       "    <tr>\n",
       "      <th>43395</th>\n",
       "      <td>56196</td>\n",
       "      <td>Female</td>\n",
       "      <td>10.0</td>\n",
       "      <td>0</td>\n",
       "      <td>0</td>\n",
       "      <td>No</td>\n",
       "      <td>children</td>\n",
       "      <td>Urban</td>\n",
       "      <td>58.64</td>\n",
       "      <td>20.4</td>\n",
       "      <td>never smoked</td>\n",
       "      <td>0</td>\n",
       "    </tr>\n",
       "    <tr>\n",
       "      <th>43396</th>\n",
       "      <td>5450</td>\n",
       "      <td>Female</td>\n",
       "      <td>56.0</td>\n",
       "      <td>0</td>\n",
       "      <td>0</td>\n",
       "      <td>Yes</td>\n",
       "      <td>Govt_job</td>\n",
       "      <td>Urban</td>\n",
       "      <td>213.61</td>\n",
       "      <td>55.4</td>\n",
       "      <td>formerly smoked</td>\n",
       "      <td>0</td>\n",
       "    </tr>\n",
       "    <tr>\n",
       "      <th>43397</th>\n",
       "      <td>28375</td>\n",
       "      <td>Female</td>\n",
       "      <td>82.0</td>\n",
       "      <td>1</td>\n",
       "      <td>0</td>\n",
       "      <td>Yes</td>\n",
       "      <td>Private</td>\n",
       "      <td>Urban</td>\n",
       "      <td>91.94</td>\n",
       "      <td>28.9</td>\n",
       "      <td>formerly smoked</td>\n",
       "      <td>0</td>\n",
       "    </tr>\n",
       "    <tr>\n",
       "      <th>43398</th>\n",
       "      <td>27973</td>\n",
       "      <td>Male</td>\n",
       "      <td>40.0</td>\n",
       "      <td>0</td>\n",
       "      <td>0</td>\n",
       "      <td>Yes</td>\n",
       "      <td>Private</td>\n",
       "      <td>Urban</td>\n",
       "      <td>99.16</td>\n",
       "      <td>33.2</td>\n",
       "      <td>never smoked</td>\n",
       "      <td>0</td>\n",
       "    </tr>\n",
       "    <tr>\n",
       "      <th>43399</th>\n",
       "      <td>36271</td>\n",
       "      <td>Female</td>\n",
       "      <td>82.0</td>\n",
       "      <td>0</td>\n",
       "      <td>0</td>\n",
       "      <td>Yes</td>\n",
       "      <td>Private</td>\n",
       "      <td>Urban</td>\n",
       "      <td>79.48</td>\n",
       "      <td>20.6</td>\n",
       "      <td>never smoked</td>\n",
       "      <td>0</td>\n",
       "    </tr>\n",
       "  </tbody>\n",
       "</table>\n",
       "<p>43400 rows × 12 columns</p>\n",
       "</div>"
      ],
      "text/plain": [
       "          id  gender   age  hypertension  heart_disease ever_married  \\\n",
       "0      30669    Male   3.0             0              0           No   \n",
       "1      30468    Male  58.0             1              0          Yes   \n",
       "2      16523  Female   8.0             0              0           No   \n",
       "3      56543  Female  70.0             0              0          Yes   \n",
       "4      46136    Male  14.0             0              0           No   \n",
       "...      ...     ...   ...           ...            ...          ...   \n",
       "43395  56196  Female  10.0             0              0           No   \n",
       "43396   5450  Female  56.0             0              0          Yes   \n",
       "43397  28375  Female  82.0             1              0          Yes   \n",
       "43398  27973    Male  40.0             0              0          Yes   \n",
       "43399  36271  Female  82.0             0              0          Yes   \n",
       "\n",
       "          work_type Residence_type  avg_glucose_level   bmi   smoking_status  \\\n",
       "0          children          Rural              95.12  18.0              NaN   \n",
       "1           Private          Urban              87.96  39.2     never smoked   \n",
       "2           Private          Urban             110.89  17.6              NaN   \n",
       "3           Private          Rural              69.04  35.9  formerly smoked   \n",
       "4      Never_worked          Rural             161.28  19.1              NaN   \n",
       "...             ...            ...                ...   ...              ...   \n",
       "43395      children          Urban              58.64  20.4     never smoked   \n",
       "43396      Govt_job          Urban             213.61  55.4  formerly smoked   \n",
       "43397       Private          Urban              91.94  28.9  formerly smoked   \n",
       "43398       Private          Urban              99.16  33.2     never smoked   \n",
       "43399       Private          Urban              79.48  20.6     never smoked   \n",
       "\n",
       "       stroke  \n",
       "0           0  \n",
       "1           0  \n",
       "2           0  \n",
       "3           0  \n",
       "4           0  \n",
       "...       ...  \n",
       "43395       0  \n",
       "43396       0  \n",
       "43397       0  \n",
       "43398       0  \n",
       "43399       0  \n",
       "\n",
       "[43400 rows x 12 columns]"
      ]
     },
     "execution_count": 4,
     "metadata": {},
     "output_type": "execute_result"
    }
   ],
   "source": [
    "hr"
   ]
  },
  {
   "cell_type": "code",
   "execution_count": 5,
   "metadata": {},
   "outputs": [
    {
     "data": {
      "text/plain": [
       "id                     int64\n",
       "gender                object\n",
       "age                  float64\n",
       "hypertension           int64\n",
       "heart_disease          int64\n",
       "ever_married          object\n",
       "work_type             object\n",
       "Residence_type        object\n",
       "avg_glucose_level    float64\n",
       "bmi                  float64\n",
       "smoking_status        object\n",
       "stroke                 int64\n",
       "dtype: object"
      ]
     },
     "execution_count": 5,
     "metadata": {},
     "output_type": "execute_result"
    }
   ],
   "source": [
    "hr.dtypes"
   ]
  },
  {
   "cell_type": "code",
   "execution_count": 6,
   "metadata": {},
   "outputs": [],
   "source": [
    "hr.drop([\"id\"],axis=1,inplace=True)"
   ]
  },
  {
   "cell_type": "code",
   "execution_count": 7,
   "metadata": {},
   "outputs": [
    {
     "data": {
      "text/plain": [
       "gender                   0\n",
       "age                      0\n",
       "hypertension             0\n",
       "heart_disease            0\n",
       "ever_married             0\n",
       "work_type                0\n",
       "Residence_type           0\n",
       "avg_glucose_level        0\n",
       "bmi                   1462\n",
       "smoking_status       13292\n",
       "stroke                   0\n",
       "dtype: int64"
      ]
     },
     "execution_count": 7,
     "metadata": {},
     "output_type": "execute_result"
    }
   ],
   "source": [
    "hr.isnull().sum() # dropping null values"
   ]
  },
  {
   "cell_type": "code",
   "execution_count": 8,
   "metadata": {},
   "outputs": [],
   "source": [
    "hr.dropna(inplace=True)"
   ]
  },
  {
   "cell_type": "code",
   "execution_count": 9,
   "metadata": {},
   "outputs": [
    {
     "name": "stdout",
     "output_type": "stream",
     "text": [
      "Female    17852\n",
      "Male      11213\n",
      "Other         7\n",
      "Name: gender, dtype: int64\n"
     ]
    },
    {
     "data": {
      "image/png": "[encoded data removed]",
      "text/plain": [
       "<Figure size 432x288 with 1 Axes>"
      ]
     },
     "metadata": {
      "needs_background": "light"
     },
     "output_type": "display_data"
    }
   ],
   "source": [
    "sns.countplot(x=\"gender\",data=hr)\n",
    "print(hr[\"gender\"].value_counts())"
   ]
  },
  {
   "cell_type": "code",
   "execution_count": 10,
   "metadata": {},
   "outputs": [
    {
     "name": "stdout",
     "output_type": "stream",
     "text": [
      "0    28524\n",
      "1      548\n",
      "Name: stroke, dtype: int64\n"
     ]
    },
    {
     "data": {
      "image/png": "[encoded data removed]",
      "text/plain": [
       "<Figure size 432x288 with 1 Axes>"
      ]
     },
     "metadata": {
      "needs_background": "light"
     },
     "output_type": "display_data"
    }
   ],
   "source": [
    "sns.countplot(x=\"stroke\",data=hr)\n",
    "print(hr[\"stroke\"].value_counts())"
   ]
  },
  {
   "cell_type": "code",
   "execution_count": 11,
   "metadata": {},
   "outputs": [
    {
     "name": "stdout",
     "output_type": "stream",
     "text": [
      "Yes    21690\n",
      "No      7382\n",
      "Name: ever_married, dtype: int64\n"
     ]
    },
    {
     "data": {
      "image/png": "[encoded data removed]",
      "text/plain": [
       "<Figure size 432x288 with 1 Axes>"
      ]
     },
     "metadata": {
      "needs_background": "light"
     },
     "output_type": "display_data"
    }
   ],
   "source": [
    "sns.countplot(x=\"ever_married\",data=hr)\n",
    "print(hr[\"ever_married\"].value_counts())"
   ]
  },
  {
   "cell_type": "code",
   "execution_count": 12,
   "metadata": {},
   "outputs": [
    {
     "name": "stdout",
     "output_type": "stream",
     "text": [
      "Private          18954\n",
      "Self-employed     5204\n",
      "Govt_job          4196\n",
      "children           617\n",
      "Never_worked       101\n",
      "Name: work_type, dtype: int64\n"
     ]
    },
    {
     "data": {
      "image/png": "[encoded data removed]",
      "text/plain": [
       "<Figure size 432x288 with 1 Axes>"
      ]
     },
     "metadata": {
      "needs_background": "light"
     },
     "output_type": "display_data"
    }
   ],
   "source": [
    "sns.countplot(x=\"work_type\",data=hr)\n",
    "print(hr[\"work_type\"].value_counts())"
   ]
  },
  {
   "cell_type": "code",
   "execution_count": 13,
   "metadata": {},
   "outputs": [],
   "source": [
    "from sklearn.preprocessing import LabelEncoder"
   ]
  },
  {
   "cell_type": "code",
   "execution_count": 14,
   "metadata": {},
   "outputs": [],
   "source": [
    "lb=LabelEncoder()"
   ]
  },
  {
   "cell_type": "code",
   "execution_count": 15,
   "metadata": {},
   "outputs": [],
   "source": [
    "hr[\"gender\"]=lb.fit_transform(hr[\"gender\"])"
   ]
  },
  {
   "cell_type": "code",
   "execution_count": 16,
   "metadata": {},
   "outputs": [],
   "source": [
    "hr[\"ever_married\"]=lb.fit_transform(hr[\"ever_married\"])"
   ]
  },
  {
   "cell_type": "code",
   "execution_count": 17,
   "metadata": {},
   "outputs": [],
   "source": [
    "hr[\"work_type\"]=lb.fit_transform(hr[\"work_type\"])"
   ]
  },
  {
   "cell_type": "code",
   "execution_count": 18,
   "metadata": {},
   "outputs": [],
   "source": [
    "hr[\"Residence_type\"]=lb.fit_transform(hr[\"Residence_type\"])"
   ]
  },
  {
   "cell_type": "code",
   "execution_count": 19,
   "metadata": {},
   "outputs": [],
   "source": [
    "hr[\"smoking_status\"]=lb.fit_transform(hr[\"smoking_status\"])"
   ]
  },
  {
   "cell_type": "code",
   "execution_count": 20,
   "metadata": {},
   "outputs": [
    {
     "data": {
      "text/html": [
       "<div>\n",
       "<style scoped>\n",
       "    .dataframe tbody tr th:only-of-type {\n",
       "        vertical-align: middle;\n",
       "    }\n",
       "\n",
       "    .dataframe tbody tr th {\n",
       "        vertical-align: top;\n",
       "    }\n",
       "\n",
       "    .dataframe thead th {\n",
       "        text-align: right;\n",
       "    }\n",
       "</style>\n",
       "<table border=\"1\" class=\"dataframe\">\n",
       "  <thead>\n",
       "    <tr style=\"text-align: right;\">\n",
       "      <th></th>\n",
       "      <th>gender</th>\n",
       "      <th>age</th>\n",
       "      <th>hypertension</th>\n",
       "      <th>heart_disease</th>\n",
       "      <th>ever_married</th>\n",
       "      <th>work_type</th>\n",
       "      <th>Residence_type</th>\n",
       "      <th>avg_glucose_level</th>\n",
       "      <th>bmi</th>\n",
       "      <th>smoking_status</th>\n",
       "      <th>stroke</th>\n",
       "    </tr>\n",
       "  </thead>\n",
       "  <tbody>\n",
       "    <tr>\n",
       "      <th>count</th>\n",
       "      <td>29072.000000</td>\n",
       "      <td>29072.000000</td>\n",
       "      <td>29072.000000</td>\n",
       "      <td>29072.000000</td>\n",
       "      <td>29072.000000</td>\n",
       "      <td>29072.000000</td>\n",
       "      <td>29072.000000</td>\n",
       "      <td>29072.000000</td>\n",
       "      <td>29072.000000</td>\n",
       "      <td>29072.000000</td>\n",
       "      <td>29072.000000</td>\n",
       "    </tr>\n",
       "    <tr>\n",
       "      <th>mean</th>\n",
       "      <td>0.386179</td>\n",
       "      <td>47.671746</td>\n",
       "      <td>0.111482</td>\n",
       "      <td>0.052146</td>\n",
       "      <td>0.746079</td>\n",
       "      <td>1.929313</td>\n",
       "      <td>0.502029</td>\n",
       "      <td>106.403225</td>\n",
       "      <td>30.054166</td>\n",
       "      <td>0.969971</td>\n",
       "      <td>0.018850</td>\n",
       "    </tr>\n",
       "    <tr>\n",
       "      <th>std</th>\n",
       "      <td>0.487375</td>\n",
       "      <td>18.734490</td>\n",
       "      <td>0.314733</td>\n",
       "      <td>0.222326</td>\n",
       "      <td>0.435261</td>\n",
       "      <td>0.916367</td>\n",
       "      <td>0.500004</td>\n",
       "      <td>45.268512</td>\n",
       "      <td>7.193908</td>\n",
       "      <td>0.676357</td>\n",
       "      <td>0.135997</td>\n",
       "    </tr>\n",
       "    <tr>\n",
       "      <th>min</th>\n",
       "      <td>0.000000</td>\n",
       "      <td>10.000000</td>\n",
       "      <td>0.000000</td>\n",
       "      <td>0.000000</td>\n",
       "      <td>0.000000</td>\n",
       "      <td>0.000000</td>\n",
       "      <td>0.000000</td>\n",
       "      <td>55.010000</td>\n",
       "      <td>10.100000</td>\n",
       "      <td>0.000000</td>\n",
       "      <td>0.000000</td>\n",
       "    </tr>\n",
       "    <tr>\n",
       "      <th>25%</th>\n",
       "      <td>0.000000</td>\n",
       "      <td>32.000000</td>\n",
       "      <td>0.000000</td>\n",
       "      <td>0.000000</td>\n",
       "      <td>0.000000</td>\n",
       "      <td>2.000000</td>\n",
       "      <td>0.000000</td>\n",
       "      <td>77.627500</td>\n",
       "      <td>25.000000</td>\n",
       "      <td>1.000000</td>\n",
       "      <td>0.000000</td>\n",
       "    </tr>\n",
       "    <tr>\n",
       "      <th>50%</th>\n",
       "      <td>0.000000</td>\n",
       "      <td>48.000000</td>\n",
       "      <td>0.000000</td>\n",
       "      <td>0.000000</td>\n",
       "      <td>1.000000</td>\n",
       "      <td>2.000000</td>\n",
       "      <td>1.000000</td>\n",
       "      <td>92.130000</td>\n",
       "      <td>28.900000</td>\n",
       "      <td>1.000000</td>\n",
       "      <td>0.000000</td>\n",
       "    </tr>\n",
       "    <tr>\n",
       "      <th>75%</th>\n",
       "      <td>1.000000</td>\n",
       "      <td>62.000000</td>\n",
       "      <td>0.000000</td>\n",
       "      <td>0.000000</td>\n",
       "      <td>1.000000</td>\n",
       "      <td>2.000000</td>\n",
       "      <td>1.000000</td>\n",
       "      <td>113.910000</td>\n",
       "      <td>33.900000</td>\n",
       "      <td>1.000000</td>\n",
       "      <td>0.000000</td>\n",
       "    </tr>\n",
       "    <tr>\n",
       "      <th>max</th>\n",
       "      <td>2.000000</td>\n",
       "      <td>82.000000</td>\n",
       "      <td>1.000000</td>\n",
       "      <td>1.000000</td>\n",
       "      <td>1.000000</td>\n",
       "      <td>4.000000</td>\n",
       "      <td>1.000000</td>\n",
       "      <td>291.050000</td>\n",
       "      <td>92.000000</td>\n",
       "      <td>2.000000</td>\n",
       "      <td>1.000000</td>\n",
       "    </tr>\n",
       "  </tbody>\n",
       "</table>\n",
       "</div>"
      ],
      "text/plain": [
       "             gender           age  hypertension  heart_disease  ever_married  \\\n",
       "count  29072.000000  29072.000000  29072.000000   29072.000000  29072.000000   \n",
       "mean       0.386179     47.671746      0.111482       0.052146      0.746079   \n",
       "std        0.487375     18.734490      0.314733       0.222326      0.435261   \n",
       "min        0.000000     10.000000      0.000000       0.000000      0.000000   \n",
       "25%        0.000000     32.000000      0.000000       0.000000      0.000000   \n",
       "50%        0.000000     48.000000      0.000000       0.000000      1.000000   \n",
       "75%        1.000000     62.000000      0.000000       0.000000      1.000000   \n",
       "max        2.000000     82.000000      1.000000       1.000000      1.000000   \n",
       "\n",
       "          work_type  Residence_type  avg_glucose_level           bmi  \\\n",
       "count  29072.000000    29072.000000       29072.000000  29072.000000   \n",
       "mean       1.929313        0.502029         106.403225     30.054166   \n",
       "std        0.916367        0.500004          45.268512      7.193908   \n",
       "min        0.000000        0.000000          55.010000     10.100000   \n",
       "25%        2.000000        0.000000          77.627500     25.000000   \n",
       "50%        2.000000        1.000000          92.130000     28.900000   \n",
       "75%        2.000000        1.000000         113.910000     33.900000   \n",
       "max        4.000000        1.000000         291.050000     92.000000   \n",
       "\n",
       "       smoking_status        stroke  \n",
       "count    29072.000000  29072.000000  \n",
       "mean         0.969971      0.018850  \n",
       "std          0.676357      0.135997  \n",
       "min          0.000000      0.000000  \n",
       "25%          1.000000      0.000000  \n",
       "50%          1.000000      0.000000  \n",
       "75%          1.000000      0.000000  \n",
       "max          2.000000      1.000000  "
      ]
     },
     "execution_count": 20,
     "metadata": {},
     "output_type": "execute_result"
    }
   ],
   "source": [
    "hr.describe()"
   ]
  },
  {
   "cell_type": "code",
   "execution_count": 21,
   "metadata": {},
   "outputs": [],
   "source": [
    "# SD of hypertension,heart diseases is high so there are outliers , but we do not have to worry about the outliers present in\n",
    "# any categorial value\n",
    "#same logic goes for skewness"
   ]
  },
  {
   "cell_type": "code",
   "execution_count": 22,
   "metadata": {},
   "outputs": [
    {
     "data": {
      "text/plain": [
       "gender               0.473823\n",
       "age                 -0.002612\n",
       "hypertension         2.469042\n",
       "heart_disease        4.029078\n",
       "ever_married        -1.130797\n",
       "work_type           -0.819989\n",
       "Residence_type      -0.008118\n",
       "avg_glucose_level    1.569766\n",
       "bmi                  1.072681\n",
       "smoking_status       0.036227\n",
       "stroke               7.076403\n",
       "dtype: float64"
      ]
     },
     "execution_count": 22,
     "metadata": {},
     "output_type": "execute_result"
    }
   ],
   "source": [
    "hr.skew() # -0.5 to +0.5, age, bmi, avg glucose lever are skewed, we need to remove the skewness by cbrt method"
   ]
  },
  {
   "cell_type": "code",
   "execution_count": 23,
   "metadata": {},
   "outputs": [],
   "source": [
    "hr[\"age\"]=np.cbrt(hr[\"age\"])"
   ]
  },
  {
   "cell_type": "code",
   "execution_count": 24,
   "metadata": {},
   "outputs": [],
   "source": [
    "hr[\"avg_glucose_level\"]=np.cbrt(hr[\"avg_glucose_level\"])"
   ]
  },
  {
   "cell_type": "code",
   "execution_count": 25,
   "metadata": {},
   "outputs": [],
   "source": [
    "hr[\"bmi\"]=np.cbrt(hr[\"bmi\"])"
   ]
  },
  {
   "cell_type": "code",
   "execution_count": 26,
   "metadata": {},
   "outputs": [
    {
     "data": {
      "text/plain": [
       "(2.154434690031884, 4.344481485768612)"
      ]
     },
     "execution_count": 26,
     "metadata": {},
     "output_type": "execute_result"
    }
   ],
   "source": [
    "minthershold,maxthershold=hr.age.quantile([0.001,0.999])\n",
    "minthershold,maxthershold"
   ]
  },
  {
   "cell_type": "code",
   "execution_count": 27,
   "metadata": {},
   "outputs": [
    {
     "data": {
      "text/html": [
       "<div>\n",
       "<style scoped>\n",
       "    .dataframe tbody tr th:only-of-type {\n",
       "        vertical-align: middle;\n",
       "    }\n",
       "\n",
       "    .dataframe tbody tr th {\n",
       "        vertical-align: top;\n",
       "    }\n",
       "\n",
       "    .dataframe thead th {\n",
       "        text-align: right;\n",
       "    }\n",
       "</style>\n",
       "<table border=\"1\" class=\"dataframe\">\n",
       "  <thead>\n",
       "    <tr style=\"text-align: right;\">\n",
       "      <th></th>\n",
       "      <th>gender</th>\n",
       "      <th>age</th>\n",
       "      <th>hypertension</th>\n",
       "      <th>heart_disease</th>\n",
       "      <th>ever_married</th>\n",
       "      <th>work_type</th>\n",
       "      <th>Residence_type</th>\n",
       "      <th>avg_glucose_level</th>\n",
       "      <th>bmi</th>\n",
       "      <th>smoking_status</th>\n",
       "      <th>stroke</th>\n",
       "    </tr>\n",
       "  </thead>\n",
       "  <tbody>\n",
       "  </tbody>\n",
       "</table>\n",
       "</div>"
      ],
      "text/plain": [
       "Empty DataFrame\n",
       "Columns: [gender, age, hypertension, heart_disease, ever_married, work_type, Residence_type, avg_glucose_level, bmi, smoking_status, stroke]\n",
       "Index: []"
      ]
     },
     "execution_count": 27,
     "metadata": {},
     "output_type": "execute_result"
    }
   ],
   "source": [
    "hr[hr.age<minthershold]"
   ]
  },
  {
   "cell_type": "code",
   "execution_count": 28,
   "metadata": {},
   "outputs": [
    {
     "data": {
      "text/html": [
       "<div>\n",
       "<style scoped>\n",
       "    .dataframe tbody tr th:only-of-type {\n",
       "        vertical-align: middle;\n",
       "    }\n",
       "\n",
       "    .dataframe tbody tr th {\n",
       "        vertical-align: top;\n",
       "    }\n",
       "\n",
       "    .dataframe thead th {\n",
       "        text-align: right;\n",
       "    }\n",
       "</style>\n",
       "<table border=\"1\" class=\"dataframe\">\n",
       "  <thead>\n",
       "    <tr style=\"text-align: right;\">\n",
       "      <th></th>\n",
       "      <th>gender</th>\n",
       "      <th>age</th>\n",
       "      <th>hypertension</th>\n",
       "      <th>heart_disease</th>\n",
       "      <th>ever_married</th>\n",
       "      <th>work_type</th>\n",
       "      <th>Residence_type</th>\n",
       "      <th>avg_glucose_level</th>\n",
       "      <th>bmi</th>\n",
       "      <th>smoking_status</th>\n",
       "      <th>stroke</th>\n",
       "    </tr>\n",
       "  </thead>\n",
       "  <tbody>\n",
       "  </tbody>\n",
       "</table>\n",
       "</div>"
      ],
      "text/plain": [
       "Empty DataFrame\n",
       "Columns: [gender, age, hypertension, heart_disease, ever_married, work_type, Residence_type, avg_glucose_level, bmi, smoking_status, stroke]\n",
       "Index: []"
      ]
     },
     "execution_count": 28,
     "metadata": {},
     "output_type": "execute_result"
    }
   ],
   "source": [
    "hr[hr.age>maxthershold]"
   ]
  },
  {
   "cell_type": "code",
   "execution_count": 29,
   "metadata": {},
   "outputs": [],
   "source": [
    "# no outliers in age"
   ]
  },
  {
   "cell_type": "code",
   "execution_count": 30,
   "metadata": {},
   "outputs": [
    {
     "data": {
      "text/plain": [
       "(3.805716235324846, 6.423158288562369)"
      ]
     },
     "execution_count": 30,
     "metadata": {},
     "output_type": "execute_result"
    }
   ],
   "source": [
    "minthershold,maxthershold=hr.avg_glucose_level.quantile([0.001,0.999])\n",
    "minthershold,maxthershold"
   ]
  },
  {
   "cell_type": "code",
   "execution_count": 31,
   "metadata": {},
   "outputs": [
    {
     "data": {
      "text/html": [
       "<div>\n",
       "<style scoped>\n",
       "    .dataframe tbody tr th:only-of-type {\n",
       "        vertical-align: middle;\n",
       "    }\n",
       "\n",
       "    .dataframe tbody tr th {\n",
       "        vertical-align: top;\n",
       "    }\n",
       "\n",
       "    .dataframe thead th {\n",
       "        text-align: right;\n",
       "    }\n",
       "</style>\n",
       "<table border=\"1\" class=\"dataframe\">\n",
       "  <thead>\n",
       "    <tr style=\"text-align: right;\">\n",
       "      <th></th>\n",
       "      <th>gender</th>\n",
       "      <th>age</th>\n",
       "      <th>hypertension</th>\n",
       "      <th>heart_disease</th>\n",
       "      <th>ever_married</th>\n",
       "      <th>work_type</th>\n",
       "      <th>Residence_type</th>\n",
       "      <th>avg_glucose_level</th>\n",
       "      <th>bmi</th>\n",
       "      <th>smoking_status</th>\n",
       "      <th>stroke</th>\n",
       "    </tr>\n",
       "  </thead>\n",
       "  <tbody>\n",
       "    <tr>\n",
       "      <th>6964</th>\n",
       "      <td>1</td>\n",
       "      <td>3.207534</td>\n",
       "      <td>0</td>\n",
       "      <td>0</td>\n",
       "      <td>1</td>\n",
       "      <td>2</td>\n",
       "      <td>0</td>\n",
       "      <td>3.804795</td>\n",
       "      <td>2.992574</td>\n",
       "      <td>1</td>\n",
       "      <td>0</td>\n",
       "    </tr>\n",
       "    <tr>\n",
       "      <th>7749</th>\n",
       "      <td>1</td>\n",
       "      <td>2.154435</td>\n",
       "      <td>0</td>\n",
       "      <td>0</td>\n",
       "      <td>0</td>\n",
       "      <td>4</td>\n",
       "      <td>1</td>\n",
       "      <td>3.805026</td>\n",
       "      <td>2.970073</td>\n",
       "      <td>1</td>\n",
       "      <td>0</td>\n",
       "    </tr>\n",
       "    <tr>\n",
       "      <th>9404</th>\n",
       "      <td>1</td>\n",
       "      <td>2.884499</td>\n",
       "      <td>0</td>\n",
       "      <td>0</td>\n",
       "      <td>0</td>\n",
       "      <td>2</td>\n",
       "      <td>1</td>\n",
       "      <td>3.804795</td>\n",
       "      <td>3.032970</td>\n",
       "      <td>0</td>\n",
       "      <td>0</td>\n",
       "    </tr>\n",
       "    <tr>\n",
       "      <th>10068</th>\n",
       "      <td>0</td>\n",
       "      <td>3.708430</td>\n",
       "      <td>1</td>\n",
       "      <td>0</td>\n",
       "      <td>1</td>\n",
       "      <td>3</td>\n",
       "      <td>1</td>\n",
       "      <td>3.805256</td>\n",
       "      <td>2.793522</td>\n",
       "      <td>2</td>\n",
       "      <td>0</td>\n",
       "    </tr>\n",
       "    <tr>\n",
       "      <th>12015</th>\n",
       "      <td>1</td>\n",
       "      <td>2.410142</td>\n",
       "      <td>0</td>\n",
       "      <td>0</td>\n",
       "      <td>0</td>\n",
       "      <td>4</td>\n",
       "      <td>0</td>\n",
       "      <td>3.804105</td>\n",
       "      <td>2.839739</td>\n",
       "      <td>1</td>\n",
       "      <td>0</td>\n",
       "    </tr>\n",
       "    <tr>\n",
       "      <th>13189</th>\n",
       "      <td>0</td>\n",
       "      <td>4.140818</td>\n",
       "      <td>0</td>\n",
       "      <td>1</td>\n",
       "      <td>1</td>\n",
       "      <td>2</td>\n",
       "      <td>0</td>\n",
       "      <td>3.803874</td>\n",
       "      <td>3.292730</td>\n",
       "      <td>0</td>\n",
       "      <td>0</td>\n",
       "    </tr>\n",
       "    <tr>\n",
       "      <th>14935</th>\n",
       "      <td>0</td>\n",
       "      <td>4.272659</td>\n",
       "      <td>0</td>\n",
       "      <td>0</td>\n",
       "      <td>1</td>\n",
       "      <td>2</td>\n",
       "      <td>0</td>\n",
       "      <td>3.804565</td>\n",
       "      <td>3.120982</td>\n",
       "      <td>1</td>\n",
       "      <td>0</td>\n",
       "    </tr>\n",
       "    <tr>\n",
       "      <th>15233</th>\n",
       "      <td>0</td>\n",
       "      <td>2.466212</td>\n",
       "      <td>0</td>\n",
       "      <td>0</td>\n",
       "      <td>0</td>\n",
       "      <td>4</td>\n",
       "      <td>1</td>\n",
       "      <td>3.804105</td>\n",
       "      <td>3.036589</td>\n",
       "      <td>1</td>\n",
       "      <td>0</td>\n",
       "    </tr>\n",
       "    <tr>\n",
       "      <th>18041</th>\n",
       "      <td>1</td>\n",
       "      <td>2.223980</td>\n",
       "      <td>0</td>\n",
       "      <td>0</td>\n",
       "      <td>0</td>\n",
       "      <td>4</td>\n",
       "      <td>1</td>\n",
       "      <td>3.803183</td>\n",
       "      <td>3.096840</td>\n",
       "      <td>1</td>\n",
       "      <td>0</td>\n",
       "    </tr>\n",
       "    <tr>\n",
       "      <th>20453</th>\n",
       "      <td>0</td>\n",
       "      <td>3.271066</td>\n",
       "      <td>0</td>\n",
       "      <td>0</td>\n",
       "      <td>1</td>\n",
       "      <td>3</td>\n",
       "      <td>1</td>\n",
       "      <td>3.803874</td>\n",
       "      <td>3.061686</td>\n",
       "      <td>1</td>\n",
       "      <td>0</td>\n",
       "    </tr>\n",
       "    <tr>\n",
       "      <th>25378</th>\n",
       "      <td>0</td>\n",
       "      <td>3.892996</td>\n",
       "      <td>0</td>\n",
       "      <td>0</td>\n",
       "      <td>1</td>\n",
       "      <td>3</td>\n",
       "      <td>1</td>\n",
       "      <td>3.805256</td>\n",
       "      <td>2.860259</td>\n",
       "      <td>0</td>\n",
       "      <td>0</td>\n",
       "    </tr>\n",
       "    <tr>\n",
       "      <th>26124</th>\n",
       "      <td>1</td>\n",
       "      <td>2.758924</td>\n",
       "      <td>0</td>\n",
       "      <td>0</td>\n",
       "      <td>1</td>\n",
       "      <td>2</td>\n",
       "      <td>0</td>\n",
       "      <td>3.804795</td>\n",
       "      <td>2.912275</td>\n",
       "      <td>1</td>\n",
       "      <td>0</td>\n",
       "    </tr>\n",
       "    <tr>\n",
       "      <th>27217</th>\n",
       "      <td>1</td>\n",
       "      <td>3.391211</td>\n",
       "      <td>0</td>\n",
       "      <td>0</td>\n",
       "      <td>1</td>\n",
       "      <td>3</td>\n",
       "      <td>0</td>\n",
       "      <td>3.805256</td>\n",
       "      <td>3.068781</td>\n",
       "      <td>2</td>\n",
       "      <td>0</td>\n",
       "    </tr>\n",
       "    <tr>\n",
       "      <th>30073</th>\n",
       "      <td>0</td>\n",
       "      <td>4.290840</td>\n",
       "      <td>0</td>\n",
       "      <td>0</td>\n",
       "      <td>1</td>\n",
       "      <td>2</td>\n",
       "      <td>1</td>\n",
       "      <td>3.803644</td>\n",
       "      <td>3.134610</td>\n",
       "      <td>0</td>\n",
       "      <td>0</td>\n",
       "    </tr>\n",
       "    <tr>\n",
       "      <th>30731</th>\n",
       "      <td>1</td>\n",
       "      <td>3.448217</td>\n",
       "      <td>1</td>\n",
       "      <td>0</td>\n",
       "      <td>1</td>\n",
       "      <td>0</td>\n",
       "      <td>1</td>\n",
       "      <td>3.804795</td>\n",
       "      <td>3.184693</td>\n",
       "      <td>1</td>\n",
       "      <td>0</td>\n",
       "    </tr>\n",
       "    <tr>\n",
       "      <th>31706</th>\n",
       "      <td>0</td>\n",
       "      <td>3.732511</td>\n",
       "      <td>0</td>\n",
       "      <td>0</td>\n",
       "      <td>1</td>\n",
       "      <td>2</td>\n",
       "      <td>1</td>\n",
       "      <td>3.804335</td>\n",
       "      <td>3.168174</td>\n",
       "      <td>0</td>\n",
       "      <td>0</td>\n",
       "    </tr>\n",
       "    <tr>\n",
       "      <th>32529</th>\n",
       "      <td>0</td>\n",
       "      <td>2.668402</td>\n",
       "      <td>0</td>\n",
       "      <td>0</td>\n",
       "      <td>0</td>\n",
       "      <td>2</td>\n",
       "      <td>1</td>\n",
       "      <td>3.804795</td>\n",
       "      <td>3.261694</td>\n",
       "      <td>1</td>\n",
       "      <td>0</td>\n",
       "    </tr>\n",
       "    <tr>\n",
       "      <th>32950</th>\n",
       "      <td>0</td>\n",
       "      <td>4.326749</td>\n",
       "      <td>1</td>\n",
       "      <td>0</td>\n",
       "      <td>1</td>\n",
       "      <td>3</td>\n",
       "      <td>0</td>\n",
       "      <td>3.803644</td>\n",
       "      <td>3.181403</td>\n",
       "      <td>1</td>\n",
       "      <td>0</td>\n",
       "    </tr>\n",
       "    <tr>\n",
       "      <th>33366</th>\n",
       "      <td>0</td>\n",
       "      <td>3.361975</td>\n",
       "      <td>0</td>\n",
       "      <td>0</td>\n",
       "      <td>0</td>\n",
       "      <td>2</td>\n",
       "      <td>0</td>\n",
       "      <td>3.804105</td>\n",
       "      <td>3.197785</td>\n",
       "      <td>1</td>\n",
       "      <td>0</td>\n",
       "    </tr>\n",
       "    <tr>\n",
       "      <th>33997</th>\n",
       "      <td>0</td>\n",
       "      <td>3.107233</td>\n",
       "      <td>0</td>\n",
       "      <td>0</td>\n",
       "      <td>0</td>\n",
       "      <td>2</td>\n",
       "      <td>0</td>\n",
       "      <td>3.803644</td>\n",
       "      <td>2.847983</td>\n",
       "      <td>1</td>\n",
       "      <td>0</td>\n",
       "    </tr>\n",
       "    <tr>\n",
       "      <th>34647</th>\n",
       "      <td>0</td>\n",
       "      <td>3.979057</td>\n",
       "      <td>0</td>\n",
       "      <td>1</td>\n",
       "      <td>1</td>\n",
       "      <td>2</td>\n",
       "      <td>0</td>\n",
       "      <td>3.803183</td>\n",
       "      <td>2.767655</td>\n",
       "      <td>2</td>\n",
       "      <td>0</td>\n",
       "    </tr>\n",
       "    <tr>\n",
       "      <th>34653</th>\n",
       "      <td>0</td>\n",
       "      <td>3.448217</td>\n",
       "      <td>0</td>\n",
       "      <td>0</td>\n",
       "      <td>1</td>\n",
       "      <td>3</td>\n",
       "      <td>0</td>\n",
       "      <td>3.803413</td>\n",
       "      <td>3.061686</td>\n",
       "      <td>1</td>\n",
       "      <td>0</td>\n",
       "    </tr>\n",
       "    <tr>\n",
       "      <th>35075</th>\n",
       "      <td>0</td>\n",
       "      <td>4.160168</td>\n",
       "      <td>0</td>\n",
       "      <td>0</td>\n",
       "      <td>1</td>\n",
       "      <td>2</td>\n",
       "      <td>1</td>\n",
       "      <td>3.805256</td>\n",
       "      <td>2.992574</td>\n",
       "      <td>0</td>\n",
       "      <td>0</td>\n",
       "    </tr>\n",
       "    <tr>\n",
       "      <th>37614</th>\n",
       "      <td>1</td>\n",
       "      <td>2.351335</td>\n",
       "      <td>0</td>\n",
       "      <td>0</td>\n",
       "      <td>0</td>\n",
       "      <td>3</td>\n",
       "      <td>1</td>\n",
       "      <td>3.804335</td>\n",
       "      <td>2.962496</td>\n",
       "      <td>1</td>\n",
       "      <td>0</td>\n",
       "    </tr>\n",
       "    <tr>\n",
       "      <th>41035</th>\n",
       "      <td>0</td>\n",
       "      <td>4.061548</td>\n",
       "      <td>0</td>\n",
       "      <td>0</td>\n",
       "      <td>1</td>\n",
       "      <td>3</td>\n",
       "      <td>0</td>\n",
       "      <td>3.803183</td>\n",
       "      <td>3.593404</td>\n",
       "      <td>1</td>\n",
       "      <td>1</td>\n",
       "    </tr>\n",
       "    <tr>\n",
       "      <th>41336</th>\n",
       "      <td>1</td>\n",
       "      <td>2.571282</td>\n",
       "      <td>0</td>\n",
       "      <td>0</td>\n",
       "      <td>0</td>\n",
       "      <td>2</td>\n",
       "      <td>1</td>\n",
       "      <td>3.803644</td>\n",
       "      <td>2.912275</td>\n",
       "      <td>1</td>\n",
       "      <td>0</td>\n",
       "    </tr>\n",
       "    <tr>\n",
       "      <th>41393</th>\n",
       "      <td>0</td>\n",
       "      <td>4.020726</td>\n",
       "      <td>0</td>\n",
       "      <td>0</td>\n",
       "      <td>1</td>\n",
       "      <td>2</td>\n",
       "      <td>1</td>\n",
       "      <td>3.804335</td>\n",
       "      <td>3.394107</td>\n",
       "      <td>2</td>\n",
       "      <td>0</td>\n",
       "    </tr>\n",
       "    <tr>\n",
       "      <th>43342</th>\n",
       "      <td>1</td>\n",
       "      <td>4.308869</td>\n",
       "      <td>0</td>\n",
       "      <td>0</td>\n",
       "      <td>1</td>\n",
       "      <td>2</td>\n",
       "      <td>1</td>\n",
       "      <td>3.803644</td>\n",
       "      <td>3.093361</td>\n",
       "      <td>2</td>\n",
       "      <td>0</td>\n",
       "    </tr>\n",
       "  </tbody>\n",
       "</table>\n",
       "</div>"
      ],
      "text/plain": [
       "       gender       age  hypertension  heart_disease  ever_married  work_type  \\\n",
       "6964        1  3.207534             0              0             1          2   \n",
       "7749        1  2.154435             0              0             0          4   \n",
       "9404        1  2.884499             0              0             0          2   \n",
       "10068       0  3.708430             1              0             1          3   \n",
       "12015       1  2.410142             0              0             0          4   \n",
       "13189       0  4.140818             0              1             1          2   \n",
       "14935       0  4.272659             0              0             1          2   \n",
       "15233       0  2.466212             0              0             0          4   \n",
       "18041       1  2.223980             0              0             0          4   \n",
       "20453       0  3.271066             0              0             1          3   \n",
       "25378       0  3.892996             0              0             1          3   \n",
       "26124       1  2.758924             0              0             1          2   \n",
       "27217       1  3.391211             0              0             1          3   \n",
       "30073       0  4.290840             0              0             1          2   \n",
       "30731       1  3.448217             1              0             1          0   \n",
       "31706       0  3.732511             0              0             1          2   \n",
       "32529       0  2.668402             0              0             0          2   \n",
       "32950       0  4.326749             1              0             1          3   \n",
       "33366       0  3.361975             0              0             0          2   \n",
       "33997       0  3.107233             0              0             0          2   \n",
       "34647       0  3.979057             0              1             1          2   \n",
       "34653       0  3.448217             0              0             1          3   \n",
       "35075       0  4.160168             0              0             1          2   \n",
       "37614       1  2.351335             0              0             0          3   \n",
       "41035       0  4.061548             0              0             1          3   \n",
       "41336       1  2.571282             0              0             0          2   \n",
       "41393       0  4.020726             0              0             1          2   \n",
       "43342       1  4.308869             0              0             1          2   \n",
       "\n",
       "       Residence_type  avg_glucose_level       bmi  smoking_status  stroke  \n",
       "6964                0           3.804795  2.992574               1       0  \n",
       "7749                1           3.805026  2.970073               1       0  \n",
       "9404                1           3.804795  3.032970               0       0  \n",
       "10068               1           3.805256  2.793522               2       0  \n",
       "12015               0           3.804105  2.839739               1       0  \n",
       "13189               0           3.803874  3.292730               0       0  \n",
       "14935               0           3.804565  3.120982               1       0  \n",
       "15233               1           3.804105  3.036589               1       0  \n",
       "18041               1           3.803183  3.096840               1       0  \n",
       "20453               1           3.803874  3.061686               1       0  \n",
       "25378               1           3.805256  2.860259               0       0  \n",
       "26124               0           3.804795  2.912275               1       0  \n",
       "27217               0           3.805256  3.068781               2       0  \n",
       "30073               1           3.803644  3.134610               0       0  \n",
       "30731               1           3.804795  3.184693               1       0  \n",
       "31706               1           3.804335  3.168174               0       0  \n",
       "32529               1           3.804795  3.261694               1       0  \n",
       "32950               0           3.803644  3.181403               1       0  \n",
       "33366               0           3.804105  3.197785               1       0  \n",
       "33997               0           3.803644  2.847983               1       0  \n",
       "34647               0           3.803183  2.767655               2       0  \n",
       "34653               0           3.803413  3.061686               1       0  \n",
       "35075               1           3.805256  2.992574               0       0  \n",
       "37614               1           3.804335  2.962496               1       0  \n",
       "41035               0           3.803183  3.593404               1       1  \n",
       "41336               1           3.803644  2.912275               1       0  \n",
       "41393               1           3.804335  3.394107               2       0  \n",
       "43342               1           3.803644  3.093361               2       0  "
      ]
     },
     "execution_count": 31,
     "metadata": {},
     "output_type": "execute_result"
    }
   ],
   "source": [
    "hr[hr.avg_glucose_level<minthershold]"
   ]
  },
  {
   "cell_type": "code",
   "execution_count": 32,
   "metadata": {},
   "outputs": [
    {
     "data": {
      "text/html": [
       "<div>\n",
       "<style scoped>\n",
       "    .dataframe tbody tr th:only-of-type {\n",
       "        vertical-align: middle;\n",
       "    }\n",
       "\n",
       "    .dataframe tbody tr th {\n",
       "        vertical-align: top;\n",
       "    }\n",
       "\n",
       "    .dataframe thead th {\n",
       "        text-align: right;\n",
       "    }\n",
       "</style>\n",
       "<table border=\"1\" class=\"dataframe\">\n",
       "  <thead>\n",
       "    <tr style=\"text-align: right;\">\n",
       "      <th></th>\n",
       "      <th>gender</th>\n",
       "      <th>age</th>\n",
       "      <th>hypertension</th>\n",
       "      <th>heart_disease</th>\n",
       "      <th>ever_married</th>\n",
       "      <th>work_type</th>\n",
       "      <th>Residence_type</th>\n",
       "      <th>avg_glucose_level</th>\n",
       "      <th>bmi</th>\n",
       "      <th>smoking_status</th>\n",
       "      <th>stroke</th>\n",
       "    </tr>\n",
       "  </thead>\n",
       "  <tbody>\n",
       "    <tr>\n",
       "      <th>976</th>\n",
       "      <td>0</td>\n",
       "      <td>3.659306</td>\n",
       "      <td>0</td>\n",
       "      <td>0</td>\n",
       "      <td>1</td>\n",
       "      <td>2</td>\n",
       "      <td>1</td>\n",
       "      <td>6.445381</td>\n",
       "      <td>3.082875</td>\n",
       "      <td>0</td>\n",
       "      <td>0</td>\n",
       "    </tr>\n",
       "    <tr>\n",
       "      <th>2249</th>\n",
       "      <td>0</td>\n",
       "      <td>3.914868</td>\n",
       "      <td>0</td>\n",
       "      <td>0</td>\n",
       "      <td>0</td>\n",
       "      <td>0</td>\n",
       "      <td>0</td>\n",
       "      <td>6.435979</td>\n",
       "      <td>2.943383</td>\n",
       "      <td>1</td>\n",
       "      <td>0</td>\n",
       "    </tr>\n",
       "    <tr>\n",
       "      <th>2885</th>\n",
       "      <td>0</td>\n",
       "      <td>4.235824</td>\n",
       "      <td>0</td>\n",
       "      <td>0</td>\n",
       "      <td>1</td>\n",
       "      <td>3</td>\n",
       "      <td>1</td>\n",
       "      <td>6.444177</td>\n",
       "      <td>3.032970</td>\n",
       "      <td>2</td>\n",
       "      <td>0</td>\n",
       "    </tr>\n",
       "    <tr>\n",
       "      <th>4814</th>\n",
       "      <td>1</td>\n",
       "      <td>4.235824</td>\n",
       "      <td>1</td>\n",
       "      <td>0</td>\n",
       "      <td>1</td>\n",
       "      <td>2</td>\n",
       "      <td>0</td>\n",
       "      <td>6.444097</td>\n",
       "      <td>3.124400</td>\n",
       "      <td>1</td>\n",
       "      <td>0</td>\n",
       "    </tr>\n",
       "    <tr>\n",
       "      <th>6170</th>\n",
       "      <td>0</td>\n",
       "      <td>4.121285</td>\n",
       "      <td>0</td>\n",
       "      <td>0</td>\n",
       "      <td>1</td>\n",
       "      <td>3</td>\n",
       "      <td>1</td>\n",
       "      <td>6.461309</td>\n",
       "      <td>3.376657</td>\n",
       "      <td>1</td>\n",
       "      <td>0</td>\n",
       "    </tr>\n",
       "    <tr>\n",
       "      <th>6501</th>\n",
       "      <td>0</td>\n",
       "      <td>3.732511</td>\n",
       "      <td>0</td>\n",
       "      <td>0</td>\n",
       "      <td>1</td>\n",
       "      <td>2</td>\n",
       "      <td>1</td>\n",
       "      <td>6.493643</td>\n",
       "      <td>3.936497</td>\n",
       "      <td>1</td>\n",
       "      <td>0</td>\n",
       "    </tr>\n",
       "    <tr>\n",
       "      <th>9268</th>\n",
       "      <td>0</td>\n",
       "      <td>3.503398</td>\n",
       "      <td>0</td>\n",
       "      <td>0</td>\n",
       "      <td>1</td>\n",
       "      <td>2</td>\n",
       "      <td>0</td>\n",
       "      <td>6.503903</td>\n",
       "      <td>3.448217</td>\n",
       "      <td>2</td>\n",
       "      <td>0</td>\n",
       "    </tr>\n",
       "    <tr>\n",
       "      <th>10511</th>\n",
       "      <td>0</td>\n",
       "      <td>3.936497</td>\n",
       "      <td>1</td>\n",
       "      <td>0</td>\n",
       "      <td>1</td>\n",
       "      <td>0</td>\n",
       "      <td>0</td>\n",
       "      <td>6.468008</td>\n",
       "      <td>3.373731</td>\n",
       "      <td>1</td>\n",
       "      <td>0</td>\n",
       "    </tr>\n",
       "    <tr>\n",
       "      <th>11007</th>\n",
       "      <td>1</td>\n",
       "      <td>3.957892</td>\n",
       "      <td>0</td>\n",
       "      <td>0</td>\n",
       "      <td>1</td>\n",
       "      <td>3</td>\n",
       "      <td>0</td>\n",
       "      <td>6.432275</td>\n",
       "      <td>3.191252</td>\n",
       "      <td>2</td>\n",
       "      <td>0</td>\n",
       "    </tr>\n",
       "    <tr>\n",
       "      <th>11868</th>\n",
       "      <td>1</td>\n",
       "      <td>4.081655</td>\n",
       "      <td>1</td>\n",
       "      <td>1</td>\n",
       "      <td>1</td>\n",
       "      <td>2</td>\n",
       "      <td>0</td>\n",
       "      <td>6.477158</td>\n",
       "      <td>3.144755</td>\n",
       "      <td>2</td>\n",
       "      <td>1</td>\n",
       "    </tr>\n",
       "    <tr>\n",
       "      <th>12495</th>\n",
       "      <td>0</td>\n",
       "      <td>4.272659</td>\n",
       "      <td>0</td>\n",
       "      <td>0</td>\n",
       "      <td>1</td>\n",
       "      <td>2</td>\n",
       "      <td>0</td>\n",
       "      <td>6.423885</td>\n",
       "      <td>2.896468</td>\n",
       "      <td>1</td>\n",
       "      <td>0</td>\n",
       "    </tr>\n",
       "    <tr>\n",
       "      <th>14280</th>\n",
       "      <td>1</td>\n",
       "      <td>3.583048</td>\n",
       "      <td>0</td>\n",
       "      <td>1</td>\n",
       "      <td>1</td>\n",
       "      <td>3</td>\n",
       "      <td>0</td>\n",
       "      <td>6.551310</td>\n",
       "      <td>3.326207</td>\n",
       "      <td>2</td>\n",
       "      <td>0</td>\n",
       "    </tr>\n",
       "    <tr>\n",
       "      <th>19417</th>\n",
       "      <td>1</td>\n",
       "      <td>3.556893</td>\n",
       "      <td>0</td>\n",
       "      <td>0</td>\n",
       "      <td>1</td>\n",
       "      <td>2</td>\n",
       "      <td>0</td>\n",
       "      <td>6.446022</td>\n",
       "      <td>3.548971</td>\n",
       "      <td>1</td>\n",
       "      <td>0</td>\n",
       "    </tr>\n",
       "    <tr>\n",
       "      <th>24335</th>\n",
       "      <td>1</td>\n",
       "      <td>4.020726</td>\n",
       "      <td>0</td>\n",
       "      <td>1</td>\n",
       "      <td>1</td>\n",
       "      <td>3</td>\n",
       "      <td>0</td>\n",
       "      <td>6.486045</td>\n",
       "      <td>3.058126</td>\n",
       "      <td>0</td>\n",
       "      <td>0</td>\n",
       "    </tr>\n",
       "    <tr>\n",
       "      <th>24796</th>\n",
       "      <td>1</td>\n",
       "      <td>4.041240</td>\n",
       "      <td>1</td>\n",
       "      <td>0</td>\n",
       "      <td>1</td>\n",
       "      <td>2</td>\n",
       "      <td>1</td>\n",
       "      <td>6.428164</td>\n",
       "      <td>3.075844</td>\n",
       "      <td>0</td>\n",
       "      <td>0</td>\n",
       "    </tr>\n",
       "    <tr>\n",
       "      <th>26323</th>\n",
       "      <td>0</td>\n",
       "      <td>3.556893</td>\n",
       "      <td>0</td>\n",
       "      <td>0</td>\n",
       "      <td>1</td>\n",
       "      <td>2</td>\n",
       "      <td>1</td>\n",
       "      <td>6.460510</td>\n",
       "      <td>3.079363</td>\n",
       "      <td>1</td>\n",
       "      <td>0</td>\n",
       "    </tr>\n",
       "    <tr>\n",
       "      <th>27296</th>\n",
       "      <td>0</td>\n",
       "      <td>3.659306</td>\n",
       "      <td>1</td>\n",
       "      <td>0</td>\n",
       "      <td>1</td>\n",
       "      <td>2</td>\n",
       "      <td>1</td>\n",
       "      <td>6.554493</td>\n",
       "      <td>3.317144</td>\n",
       "      <td>2</td>\n",
       "      <td>0</td>\n",
       "    </tr>\n",
       "    <tr>\n",
       "      <th>29930</th>\n",
       "      <td>0</td>\n",
       "      <td>3.979057</td>\n",
       "      <td>0</td>\n",
       "      <td>0</td>\n",
       "      <td>1</td>\n",
       "      <td>2</td>\n",
       "      <td>1</td>\n",
       "      <td>6.456754</td>\n",
       "      <td>3.370800</td>\n",
       "      <td>2</td>\n",
       "      <td>0</td>\n",
       "    </tr>\n",
       "    <tr>\n",
       "      <th>32136</th>\n",
       "      <td>1</td>\n",
       "      <td>4.179339</td>\n",
       "      <td>0</td>\n",
       "      <td>1</td>\n",
       "      <td>1</td>\n",
       "      <td>2</td>\n",
       "      <td>1</td>\n",
       "      <td>6.441125</td>\n",
       "      <td>3.137999</td>\n",
       "      <td>1</td>\n",
       "      <td>0</td>\n",
       "    </tr>\n",
       "    <tr>\n",
       "      <th>33521</th>\n",
       "      <td>0</td>\n",
       "      <td>4.081655</td>\n",
       "      <td>1</td>\n",
       "      <td>0</td>\n",
       "      <td>1</td>\n",
       "      <td>2</td>\n",
       "      <td>0</td>\n",
       "      <td>6.477158</td>\n",
       "      <td>3.644308</td>\n",
       "      <td>1</td>\n",
       "      <td>0</td>\n",
       "    </tr>\n",
       "    <tr>\n",
       "      <th>33569</th>\n",
       "      <td>1</td>\n",
       "      <td>4.198336</td>\n",
       "      <td>0</td>\n",
       "      <td>1</td>\n",
       "      <td>1</td>\n",
       "      <td>3</td>\n",
       "      <td>0</td>\n",
       "      <td>6.454675</td>\n",
       "      <td>3.364922</td>\n",
       "      <td>1</td>\n",
       "      <td>0</td>\n",
       "    </tr>\n",
       "    <tr>\n",
       "      <th>34414</th>\n",
       "      <td>1</td>\n",
       "      <td>3.708430</td>\n",
       "      <td>0</td>\n",
       "      <td>0</td>\n",
       "      <td>1</td>\n",
       "      <td>0</td>\n",
       "      <td>0</td>\n",
       "      <td>6.495381</td>\n",
       "      <td>3.492501</td>\n",
       "      <td>1</td>\n",
       "      <td>0</td>\n",
       "    </tr>\n",
       "    <tr>\n",
       "      <th>34797</th>\n",
       "      <td>1</td>\n",
       "      <td>3.732511</td>\n",
       "      <td>0</td>\n",
       "      <td>0</td>\n",
       "      <td>1</td>\n",
       "      <td>3</td>\n",
       "      <td>1</td>\n",
       "      <td>6.456994</td>\n",
       "      <td>3.304982</td>\n",
       "      <td>1</td>\n",
       "      <td>0</td>\n",
       "    </tr>\n",
       "    <tr>\n",
       "      <th>36896</th>\n",
       "      <td>1</td>\n",
       "      <td>3.332222</td>\n",
       "      <td>0</td>\n",
       "      <td>0</td>\n",
       "      <td>1</td>\n",
       "      <td>2</td>\n",
       "      <td>1</td>\n",
       "      <td>6.530898</td>\n",
       "      <td>3.043802</td>\n",
       "      <td>1</td>\n",
       "      <td>0</td>\n",
       "    </tr>\n",
       "    <tr>\n",
       "      <th>38064</th>\n",
       "      <td>1</td>\n",
       "      <td>3.825862</td>\n",
       "      <td>1</td>\n",
       "      <td>0</td>\n",
       "      <td>1</td>\n",
       "      <td>3</td>\n",
       "      <td>1</td>\n",
       "      <td>6.438794</td>\n",
       "      <td>2.872430</td>\n",
       "      <td>0</td>\n",
       "      <td>0</td>\n",
       "    </tr>\n",
       "    <tr>\n",
       "      <th>38446</th>\n",
       "      <td>0</td>\n",
       "      <td>4.308869</td>\n",
       "      <td>0</td>\n",
       "      <td>0</td>\n",
       "      <td>1</td>\n",
       "      <td>2</td>\n",
       "      <td>0</td>\n",
       "      <td>6.627085</td>\n",
       "      <td>3.061686</td>\n",
       "      <td>1</td>\n",
       "      <td>0</td>\n",
       "    </tr>\n",
       "    <tr>\n",
       "      <th>40075</th>\n",
       "      <td>1</td>\n",
       "      <td>4.235824</td>\n",
       "      <td>1</td>\n",
       "      <td>0</td>\n",
       "      <td>1</td>\n",
       "      <td>2</td>\n",
       "      <td>1</td>\n",
       "      <td>6.450271</td>\n",
       "      <td>3.131214</td>\n",
       "      <td>1</td>\n",
       "      <td>0</td>\n",
       "    </tr>\n",
       "    <tr>\n",
       "      <th>40336</th>\n",
       "      <td>0</td>\n",
       "      <td>4.179339</td>\n",
       "      <td>1</td>\n",
       "      <td>0</td>\n",
       "      <td>1</td>\n",
       "      <td>2</td>\n",
       "      <td>1</td>\n",
       "      <td>6.433725</td>\n",
       "      <td>3.007389</td>\n",
       "      <td>0</td>\n",
       "      <td>0</td>\n",
       "    </tr>\n",
       "    <tr>\n",
       "      <th>41968</th>\n",
       "      <td>0</td>\n",
       "      <td>4.198336</td>\n",
       "      <td>0</td>\n",
       "      <td>0</td>\n",
       "      <td>1</td>\n",
       "      <td>2</td>\n",
       "      <td>1</td>\n",
       "      <td>6.478032</td>\n",
       "      <td>3.459395</td>\n",
       "      <td>0</td>\n",
       "      <td>0</td>\n",
       "    </tr>\n",
       "  </tbody>\n",
       "</table>\n",
       "</div>"
      ],
      "text/plain": [
       "       gender       age  hypertension  heart_disease  ever_married  work_type  \\\n",
       "976         0  3.659306             0              0             1          2   \n",
       "2249        0  3.914868             0              0             0          0   \n",
       "2885        0  4.235824             0              0             1          3   \n",
       "4814        1  4.235824             1              0             1          2   \n",
       "6170        0  4.121285             0              0             1          3   \n",
       "6501        0  3.732511             0              0             1          2   \n",
       "9268        0  3.503398             0              0             1          2   \n",
       "10511       0  3.936497             1              0             1          0   \n",
       "11007       1  3.957892             0              0             1          3   \n",
       "11868       1  4.081655             1              1             1          2   \n",
       "12495       0  4.272659             0              0             1          2   \n",
       "14280       1  3.583048             0              1             1          3   \n",
       "19417       1  3.556893             0              0             1          2   \n",
       "24335       1  4.020726             0              1             1          3   \n",
       "24796       1  4.041240             1              0             1          2   \n",
       "26323       0  3.556893             0              0             1          2   \n",
       "27296       0  3.659306             1              0             1          2   \n",
       "29930       0  3.979057             0              0             1          2   \n",
       "32136       1  4.179339             0              1             1          2   \n",
       "33521       0  4.081655             1              0             1          2   \n",
       "33569       1  4.198336             0              1             1          3   \n",
       "34414       1  3.708430             0              0             1          0   \n",
       "34797       1  3.732511             0              0             1          3   \n",
       "36896       1  3.332222             0              0             1          2   \n",
       "38064       1  3.825862             1              0             1          3   \n",
       "38446       0  4.308869             0              0             1          2   \n",
       "40075       1  4.235824             1              0             1          2   \n",
       "40336       0  4.179339             1              0             1          2   \n",
       "41968       0  4.198336             0              0             1          2   \n",
       "\n",
       "       Residence_type  avg_glucose_level       bmi  smoking_status  stroke  \n",
       "976                 1           6.445381  3.082875               0       0  \n",
       "2249                0           6.435979  2.943383               1       0  \n",
       "2885                1           6.444177  3.032970               2       0  \n",
       "4814                0           6.444097  3.124400               1       0  \n",
       "6170                1           6.461309  3.376657               1       0  \n",
       "6501                1           6.493643  3.936497               1       0  \n",
       "9268                0           6.503903  3.448217               2       0  \n",
       "10511               0           6.468008  3.373731               1       0  \n",
       "11007               0           6.432275  3.191252               2       0  \n",
       "11868               0           6.477158  3.144755               2       1  \n",
       "12495               0           6.423885  2.896468               1       0  \n",
       "14280               0           6.551310  3.326207               2       0  \n",
       "19417               0           6.446022  3.548971               1       0  \n",
       "24335               0           6.486045  3.058126               0       0  \n",
       "24796               1           6.428164  3.075844               0       0  \n",
       "26323               1           6.460510  3.079363               1       0  \n",
       "27296               1           6.554493  3.317144               2       0  \n",
       "29930               1           6.456754  3.370800               2       0  \n",
       "32136               1           6.441125  3.137999               1       0  \n",
       "33521               0           6.477158  3.644308               1       0  \n",
       "33569               0           6.454675  3.364922               1       0  \n",
       "34414               0           6.495381  3.492501               1       0  \n",
       "34797               1           6.456994  3.304982               1       0  \n",
       "36896               1           6.530898  3.043802               1       0  \n",
       "38064               1           6.438794  2.872430               0       0  \n",
       "38446               0           6.627085  3.061686               1       0  \n",
       "40075               1           6.450271  3.131214               1       0  \n",
       "40336               1           6.433725  3.007389               0       0  \n",
       "41968               1           6.478032  3.459395               0       0  "
      ]
     },
     "execution_count": 32,
     "metadata": {},
     "output_type": "execute_result"
    }
   ],
   "source": [
    "hr[hr.avg_glucose_level>maxthershold]"
   ]
  },
  {
   "cell_type": "code",
   "execution_count": 33,
   "metadata": {},
   "outputs": [],
   "source": [
    "# outliers present in avg glucose level\n",
    "# to treat these outliers we need to do standard scalling\n"
   ]
  },
  {
   "cell_type": "code",
   "execution_count": 34,
   "metadata": {},
   "outputs": [
    {
     "data": {
      "image/png": "[encoded data removed]",
      "text/plain": [
       "<Figure size 1080x1152 with 2 Axes>"
      ]
     },
     "metadata": {
      "needs_background": "light"
     },
     "output_type": "display_data"
    }
   ],
   "source": [
    "corr_hmap=hr.corr()\n",
    "plt.figure(figsize=(15,16))\n",
    "sns.heatmap(corr_hmap,annot=True)\n",
    "plt.show()# no multicollinearity present"
   ]
  },
  {
   "cell_type": "code",
   "execution_count": 35,
   "metadata": {},
   "outputs": [],
   "source": [
    "x = hr.drop('stroke', axis=1).copy()"
   ]
  },
  {
   "cell_type": "code",
   "execution_count": 36,
   "metadata": {},
   "outputs": [
    {
     "data": {
      "text/html": [
       "<div>\n",
       "<style scoped>\n",
       "    .dataframe tbody tr th:only-of-type {\n",
       "        vertical-align: middle;\n",
       "    }\n",
       "\n",
       "    .dataframe tbody tr th {\n",
       "        vertical-align: top;\n",
       "    }\n",
       "\n",
       "    .dataframe thead th {\n",
       "        text-align: right;\n",
       "    }\n",
       "</style>\n",
       "<table border=\"1\" class=\"dataframe\">\n",
       "  <thead>\n",
       "    <tr style=\"text-align: right;\">\n",
       "      <th></th>\n",
       "      <th>gender</th>\n",
       "      <th>age</th>\n",
       "      <th>hypertension</th>\n",
       "      <th>heart_disease</th>\n",
       "      <th>ever_married</th>\n",
       "      <th>work_type</th>\n",
       "      <th>Residence_type</th>\n",
       "      <th>avg_glucose_level</th>\n",
       "      <th>bmi</th>\n",
       "      <th>smoking_status</th>\n",
       "    </tr>\n",
       "  </thead>\n",
       "  <tbody>\n",
       "    <tr>\n",
       "      <th>1</th>\n",
       "      <td>1</td>\n",
       "      <td>3.870877</td>\n",
       "      <td>1</td>\n",
       "      <td>0</td>\n",
       "      <td>1</td>\n",
       "      <td>2</td>\n",
       "      <td>1</td>\n",
       "      <td>4.447286</td>\n",
       "      <td>3.396999</td>\n",
       "      <td>1</td>\n",
       "    </tr>\n",
       "    <tr>\n",
       "      <th>3</th>\n",
       "      <td>0</td>\n",
       "      <td>4.121285</td>\n",
       "      <td>0</td>\n",
       "      <td>0</td>\n",
       "      <td>1</td>\n",
       "      <td>2</td>\n",
       "      <td>0</td>\n",
       "      <td>4.102358</td>\n",
       "      <td>3.298867</td>\n",
       "      <td>0</td>\n",
       "    </tr>\n",
       "    <tr>\n",
       "      <th>6</th>\n",
       "      <td>0</td>\n",
       "      <td>3.732511</td>\n",
       "      <td>0</td>\n",
       "      <td>0</td>\n",
       "      <td>1</td>\n",
       "      <td>2</td>\n",
       "      <td>1</td>\n",
       "      <td>4.265159</td>\n",
       "      <td>2.606100</td>\n",
       "      <td>0</td>\n",
       "    </tr>\n",
       "    <tr>\n",
       "      <th>7</th>\n",
       "      <td>0</td>\n",
       "      <td>4.217163</td>\n",
       "      <td>0</td>\n",
       "      <td>1</td>\n",
       "      <td>1</td>\n",
       "      <td>3</td>\n",
       "      <td>0</td>\n",
       "      <td>6.244785</td>\n",
       "      <td>3.000000</td>\n",
       "      <td>1</td>\n",
       "    </tr>\n",
       "    <tr>\n",
       "      <th>8</th>\n",
       "      <td>0</td>\n",
       "      <td>3.174802</td>\n",
       "      <td>0</td>\n",
       "      <td>0</td>\n",
       "      <td>1</td>\n",
       "      <td>2</td>\n",
       "      <td>0</td>\n",
       "      <td>4.266625</td>\n",
       "      <td>3.184693</td>\n",
       "      <td>2</td>\n",
       "    </tr>\n",
       "    <tr>\n",
       "      <th>...</th>\n",
       "      <td>...</td>\n",
       "      <td>...</td>\n",
       "      <td>...</td>\n",
       "      <td>...</td>\n",
       "      <td>...</td>\n",
       "      <td>...</td>\n",
       "      <td>...</td>\n",
       "      <td>...</td>\n",
       "      <td>...</td>\n",
       "      <td>...</td>\n",
       "    </tr>\n",
       "    <tr>\n",
       "      <th>43395</th>\n",
       "      <td>0</td>\n",
       "      <td>2.154435</td>\n",
       "      <td>0</td>\n",
       "      <td>0</td>\n",
       "      <td>0</td>\n",
       "      <td>4</td>\n",
       "      <td>1</td>\n",
       "      <td>3.885062</td>\n",
       "      <td>2.732394</td>\n",
       "      <td>1</td>\n",
       "    </tr>\n",
       "    <tr>\n",
       "      <th>43396</th>\n",
       "      <td>0</td>\n",
       "      <td>3.825862</td>\n",
       "      <td>0</td>\n",
       "      <td>0</td>\n",
       "      <td>1</td>\n",
       "      <td>0</td>\n",
       "      <td>1</td>\n",
       "      <td>5.977788</td>\n",
       "      <td>3.812149</td>\n",
       "      <td>0</td>\n",
       "    </tr>\n",
       "    <tr>\n",
       "      <th>43397</th>\n",
       "      <td>0</td>\n",
       "      <td>4.344481</td>\n",
       "      <td>1</td>\n",
       "      <td>0</td>\n",
       "      <td>1</td>\n",
       "      <td>2</td>\n",
       "      <td>1</td>\n",
       "      <td>4.513376</td>\n",
       "      <td>3.068781</td>\n",
       "      <td>0</td>\n",
       "    </tr>\n",
       "    <tr>\n",
       "      <th>43398</th>\n",
       "      <td>1</td>\n",
       "      <td>3.419952</td>\n",
       "      <td>0</td>\n",
       "      <td>0</td>\n",
       "      <td>1</td>\n",
       "      <td>2</td>\n",
       "      <td>1</td>\n",
       "      <td>4.628556</td>\n",
       "      <td>3.214001</td>\n",
       "      <td>1</td>\n",
       "    </tr>\n",
       "    <tr>\n",
       "      <th>43399</th>\n",
       "      <td>0</td>\n",
       "      <td>4.344481</td>\n",
       "      <td>0</td>\n",
       "      <td>0</td>\n",
       "      <td>1</td>\n",
       "      <td>2</td>\n",
       "      <td>1</td>\n",
       "      <td>4.299513</td>\n",
       "      <td>2.741295</td>\n",
       "      <td>1</td>\n",
       "    </tr>\n",
       "  </tbody>\n",
       "</table>\n",
       "<p>29072 rows × 10 columns</p>\n",
       "</div>"
      ],
      "text/plain": [
       "       gender       age  hypertension  heart_disease  ever_married  work_type  \\\n",
       "1           1  3.870877             1              0             1          2   \n",
       "3           0  4.121285             0              0             1          2   \n",
       "6           0  3.732511             0              0             1          2   \n",
       "7           0  4.217163             0              1             1          3   \n",
       "8           0  3.174802             0              0             1          2   \n",
       "...       ...       ...           ...            ...           ...        ...   \n",
       "43395       0  2.154435             0              0             0          4   \n",
       "43396       0  3.825862             0              0             1          0   \n",
       "43397       0  4.344481             1              0             1          2   \n",
       "43398       1  3.419952             0              0             1          2   \n",
       "43399       0  4.344481             0              0             1          2   \n",
       "\n",
       "       Residence_type  avg_glucose_level       bmi  smoking_status  \n",
       "1                   1           4.447286  3.396999               1  \n",
       "3                   0           4.102358  3.298867               0  \n",
       "6                   1           4.265159  2.606100               0  \n",
       "7                   0           6.244785  3.000000               1  \n",
       "8                   0           4.266625  3.184693               2  \n",
       "...               ...                ...       ...             ...  \n",
       "43395               1           3.885062  2.732394               1  \n",
       "43396               1           5.977788  3.812149               0  \n",
       "43397               1           4.513376  3.068781               0  \n",
       "43398               1           4.628556  3.214001               1  \n",
       "43399               1           4.299513  2.741295               1  \n",
       "\n",
       "[29072 rows x 10 columns]"
      ]
     },
     "execution_count": 36,
     "metadata": {},
     "output_type": "execute_result"
    }
   ],
   "source": [
    "x"
   ]
  },
  {
   "cell_type": "code",
   "execution_count": 37,
   "metadata": {},
   "outputs": [
    {
     "data": {
      "text/plain": [
       "1        0\n",
       "3        0\n",
       "6        0\n",
       "7        0\n",
       "8        0\n",
       "        ..\n",
       "43395    0\n",
       "43396    0\n",
       "43397    0\n",
       "43398    0\n",
       "43399    0\n",
       "Name: stroke, Length: 29072, dtype: int64"
      ]
     },
     "execution_count": 37,
     "metadata": {},
     "output_type": "execute_result"
    }
   ],
   "source": [
    "y = hr['stroke'].copy()\n",
    "y"
   ]
  },
  {
   "cell_type": "code",
   "execution_count": 38,
   "metadata": {},
   "outputs": [],
   "source": [
    "#STANDARD SCALE MEAN 0 AND SD+-1 MAX MIN SCALE 0 to 1\n",
    "\n",
    "#formula=x-mean/SD"
   ]
  },
  {
   "cell_type": "code",
   "execution_count": 39,
   "metadata": {},
   "outputs": [],
   "source": [
    "from sklearn.preprocessing import StandardScaler"
   ]
  },
  {
   "cell_type": "code",
   "execution_count": 40,
   "metadata": {},
   "outputs": [
    {
     "data": {
      "text/plain": [
       "array([[ 1.25946389,  0.61306588,  2.82313141, ..., -0.36112531,\n",
       "         1.28623465,  0.04439876],\n",
       "       [-0.79237888,  1.09766352, -0.3542166 , ..., -0.94369107,\n",
       "         0.8742758 , -1.43413579],\n",
       "       [-0.79237888,  0.34529723, -0.3542166 , ..., -0.66872852,\n",
       "        -2.03398197, -1.43413579],\n",
       "       ...,\n",
       "       [-0.79237888,  1.52959884,  2.82313141, ..., -0.24950313,\n",
       "        -0.09163131, -1.43413579],\n",
       "       [ 1.25946389, -0.25957594, -0.3542166 , ..., -0.05496991,\n",
       "         0.51800597,  0.04439876],\n",
       "       [-0.79237888,  1.52959884, -0.3542166 , ..., -0.61070642,\n",
       "        -1.4664303 ,  0.04439876]])"
      ]
     },
     "execution_count": 40,
     "metadata": {},
     "output_type": "execute_result"
    }
   ],
   "source": [
    "st=StandardScaler()\n",
    "x=st.fit_transform(x)\n",
    "x"
   ]
  },
  {
   "cell_type": "code",
   "execution_count": 41,
   "metadata": {},
   "outputs": [],
   "source": [
    "from sklearn.linear_model import LogisticRegression\n",
    "from sklearn.metrics import accuracy_score,confusion_matrix,classification_report\n",
    "from sklearn.model_selection import train_test_split"
   ]
  },
  {
   "cell_type": "code",
   "execution_count": 42,
   "metadata": {},
   "outputs": [],
   "source": [
    "x_train,x_test,y_train,y_test=train_test_split(x,y,test_size=0.20,random_state=42)"
   ]
  },
  {
   "cell_type": "code",
   "execution_count": 43,
   "metadata": {},
   "outputs": [],
   "source": [
    "lg=LogisticRegression()"
   ]
  },
  {
   "cell_type": "code",
   "execution_count": 44,
   "metadata": {},
   "outputs": [
    {
     "data": {
      "text/plain": [
       "LogisticRegression()"
      ]
     },
     "execution_count": 44,
     "metadata": {},
     "output_type": "execute_result"
    }
   ],
   "source": [
    "lg.fit(x_train,y_train)"
   ]
  },
  {
   "cell_type": "code",
   "execution_count": 45,
   "metadata": {},
   "outputs": [
    {
     "data": {
      "text/plain": [
       "array([[ 0.01144187,  1.69968393,  0.13789462,  0.13819304, -0.13613912,\n",
       "        -0.04513535,  0.02171956,  0.16173605, -0.08175654,  0.06335998]])"
      ]
     },
     "execution_count": 45,
     "metadata": {},
     "output_type": "execute_result"
    }
   ],
   "source": [
    "lg.coef_"
   ]
  },
  {
   "cell_type": "code",
   "execution_count": 46,
   "metadata": {},
   "outputs": [
    {
     "data": {
      "text/plain": [
       "array([-5.04636456])"
      ]
     },
     "execution_count": 46,
     "metadata": {},
     "output_type": "execute_result"
    }
   ],
   "source": [
    "lg.intercept_"
   ]
  },
  {
   "cell_type": "code",
   "execution_count": 47,
   "metadata": {},
   "outputs": [],
   "source": [
    "pred=lg.predict(x_test)"
   ]
  },
  {
   "cell_type": "code",
   "execution_count": 48,
   "metadata": {},
   "outputs": [
    {
     "data": {
      "text/plain": [
       "array([0, 0, 0, ..., 0, 0, 0], dtype=int64)"
      ]
     },
     "execution_count": 48,
     "metadata": {},
     "output_type": "execute_result"
    }
   ],
   "source": [
    "pred"
   ]
  },
  {
   "cell_type": "code",
   "execution_count": 49,
   "metadata": {},
   "outputs": [
    {
     "data": {
      "text/plain": [
       "0.9814273430782459"
      ]
     },
     "execution_count": 49,
     "metadata": {},
     "output_type": "execute_result"
    }
   ],
   "source": [
    "accuracy_score(y_test,pred)\n",
    "#accuracy is the no of correct predictions/total no of predictions"
   ]
  },
  {
   "cell_type": "code",
   "execution_count": 50,
   "metadata": {},
   "outputs": [
    {
     "name": "stdout",
     "output_type": "stream",
     "text": [
      "[[5707    0]\n",
      " [ 108    0]]\n"
     ]
    }
   ],
   "source": [
    "print(confusion_matrix(y_test,pred))\n",
    "#it shows type 1 and type 2 error"
   ]
  },
  {
   "cell_type": "code",
   "execution_count": 51,
   "metadata": {},
   "outputs": [
    {
     "name": "stdout",
     "output_type": "stream",
     "text": [
      "              precision    recall  f1-score   support\n",
      "\n",
      "           0       0.98      1.00      0.99      5707\n",
      "           1       0.00      0.00      0.00       108\n",
      "\n",
      "    accuracy                           0.98      5815\n",
      "   macro avg       0.49      0.50      0.50      5815\n",
      "weighted avg       0.96      0.98      0.97      5815\n",
      "\n"
     ]
    }
   ],
   "source": [
    "print(classification_report(y_test,pred))\n",
    "#The F1 score is a weighted harmonic mean of precision and recall such that the best score is 1.0 and the worst is 0.0.\n",
    "#F1 Score = 2*(Recall * Precision) / (Recall + Precision), shows what % of positive predictions are correct\n",
    "#precision says hat % of predictions are correct\n",
    "#Precision = TP/(TP + FP), it is accuracy of positive predictions\n",
    "#Recall is the fraction of positive that are correctly identified\n",
    "#Recall = TP/(TP+FN)"
   ]
  },
  {
   "cell_type": "code",
   "execution_count": 52,
   "metadata": {},
   "outputs": [
    {
     "data": {
      "text/plain": [
       "0.9810809648707915"
      ]
     },
     "execution_count": 52,
     "metadata": {},
     "output_type": "execute_result"
    }
   ],
   "source": [
    "lg.score(x_train,y_train)"
   ]
  },
  {
   "cell_type": "code",
   "execution_count": 53,
   "metadata": {},
   "outputs": [],
   "source": [
    "from sklearn.metrics import roc_curve\n",
    "import matplotlib.pyplot as plt\n",
    "from sklearn.metrics import roc_auc_score"
   ]
  },
  {
   "cell_type": "code",
   "execution_count": 54,
   "metadata": {},
   "outputs": [],
   "source": [
    "y_pred_prob=lg.predict_proba(x_test)[:,1]"
   ]
  },
  {
   "cell_type": "code",
   "execution_count": 55,
   "metadata": {},
   "outputs": [
    {
     "data": {
      "text/plain": [
       "array([2.62444776e-03, 8.73862768e-02, 4.88149287e-03, ...,\n",
       "       1.47595048e-03, 8.34529474e-05, 1.40759712e-02])"
      ]
     },
     "execution_count": 55,
     "metadata": {},
     "output_type": "execute_result"
    }
   ],
   "source": [
    "y_pred_prob"
   ]
  },
  {
   "cell_type": "code",
   "execution_count": 56,
   "metadata": {},
   "outputs": [],
   "source": [
    "fpr,tpr,thersholds=roc_curve(y_test,y_pred_prob)"
   ]
  },
  {
   "cell_type": "code",
   "execution_count": 57,
   "metadata": {},
   "outputs": [
    {
     "data": {
      "text/plain": [
       "array([0.00000000e+00, 1.75223410e-04, 8.76117049e-04, 8.76117049e-04,\n",
       "       3.85491502e-03, 3.85491502e-03, 4.20536184e-03, 4.20536184e-03,\n",
       "       4.38058525e-03, 4.38058525e-03, 5.25670230e-03, 5.25670230e-03,\n",
       "       7.35938321e-03, 7.35938321e-03, 8.41072367e-03, 8.41072367e-03,\n",
       "       1.31417557e-02, 1.31417557e-02, 1.50692132e-02, 1.50692132e-02,\n",
       "       1.89241283e-02, 1.89241283e-02, 1.96250219e-02, 1.96250219e-02,\n",
       "       1.99754687e-02, 1.99754687e-02, 2.20781496e-02, 2.20781496e-02,\n",
       "       2.54073944e-02, 2.54073944e-02, 2.66339583e-02, 2.66339583e-02,\n",
       "       2.73348519e-02, 2.73348519e-02, 2.97879797e-02, 2.97879797e-02,\n",
       "       3.38181181e-02, 3.38181181e-02, 3.39933415e-02, 3.39933415e-02,\n",
       "       3.41685649e-02, 3.41685649e-02, 3.69721395e-02, 3.69721395e-02,\n",
       "       3.80234799e-02, 3.80234799e-02, 3.85491502e-02, 3.85491502e-02,\n",
       "       4.22288418e-02, 4.22288418e-02, 4.39810759e-02, 4.39810759e-02,\n",
       "       5.37935868e-02, 5.37935868e-02, 5.39688102e-02, 5.39688102e-02,\n",
       "       5.64219380e-02, 5.64219380e-02, 5.79989487e-02, 5.79989487e-02,\n",
       "       6.15034169e-02, 6.15034169e-02, 6.57087787e-02, 6.57087787e-02,\n",
       "       6.78114596e-02, 6.78114596e-02, 7.00893639e-02, 7.00893639e-02,\n",
       "       7.35938321e-02, 7.35938321e-02, 7.41195024e-02, 7.41195024e-02,\n",
       "       7.65726301e-02, 7.65726301e-02, 7.72735237e-02, 7.72735237e-02,\n",
       "       8.16541090e-02, 8.16541090e-02, 8.39320133e-02, 8.39320133e-02,\n",
       "       8.48081304e-02, 8.48081304e-02, 8.49833538e-02, 8.49833538e-02,\n",
       "       8.70860347e-02, 8.70860347e-02, 8.95391624e-02, 8.95391624e-02,\n",
       "       9.93516734e-02, 9.93516734e-02, 1.00928684e-01, 1.00928684e-01,\n",
       "       1.01629578e-01, 1.01629578e-01, 1.02505695e-01, 1.02505695e-01,\n",
       "       1.03381812e-01, 1.03381812e-01, 1.05134046e-01, 1.05134046e-01,\n",
       "       1.07236727e-01, 1.07236727e-01, 1.07937620e-01, 1.07937620e-01,\n",
       "       1.08288067e-01, 1.08288067e-01, 1.09339408e-01, 1.09339408e-01,\n",
       "       1.15297004e-01, 1.15297004e-01, 1.26861749e-01, 1.26861749e-01,\n",
       "       1.28088313e-01, 1.28088313e-01, 1.30716664e-01, 1.30716664e-01,\n",
       "       1.35097249e-01, 1.35097249e-01, 1.35272472e-01, 1.35272472e-01,\n",
       "       1.36499036e-01, 1.36499036e-01, 1.37900824e-01, 1.37900824e-01,\n",
       "       1.39828281e-01, 1.39828281e-01, 1.48764675e-01, 1.48764675e-01,\n",
       "       1.50341686e-01, 1.50341686e-01, 1.51918696e-01, 1.51918696e-01,\n",
       "       1.60154197e-01, 1.60154197e-01, 1.62432101e-01, 1.62432101e-01,\n",
       "       1.67864027e-01, 1.67864027e-01, 1.78026984e-01, 1.78026984e-01,\n",
       "       1.93621868e-01, 1.93621868e-01, 2.02383038e-01, 2.02383038e-01,\n",
       "       2.04310496e-01, 2.04310496e-01, 2.20781496e-01, 2.20781496e-01,\n",
       "       2.26388646e-01, 2.26388646e-01, 2.33397582e-01, 2.33397582e-01,\n",
       "       2.33923252e-01, 2.33923252e-01, 2.41282635e-01, 2.41282635e-01,\n",
       "       2.46889784e-01, 2.46889784e-01, 2.47765902e-01, 2.47765902e-01,\n",
       "       2.53723497e-01, 2.53723497e-01, 2.66865253e-01, 2.66865253e-01,\n",
       "       2.85614158e-01, 2.85614158e-01, 2.88943403e-01, 2.88943403e-01,\n",
       "       2.98230244e-01, 2.98230244e-01, 3.70247065e-01, 3.70247065e-01,\n",
       "       3.73225863e-01, 3.73225863e-01, 3.76029438e-01, 3.76029438e-01,\n",
       "       3.90572981e-01, 3.90572981e-01, 4.11074120e-01, 4.11074120e-01,\n",
       "       4.27369897e-01, 4.27369897e-01, 4.32801822e-01, 4.32801822e-01,\n",
       "       4.67671281e-01, 4.67671281e-01, 4.79236026e-01, 4.79236026e-01,\n",
       "       5.23392325e-01, 5.23392325e-01, 5.46171368e-01, 5.46171368e-01,\n",
       "       5.49675837e-01, 5.49675837e-01, 5.57035220e-01, 5.57035220e-01,\n",
       "       5.92780796e-01, 5.92780796e-01, 6.53408095e-01, 6.53408095e-01,\n",
       "       7.78517610e-01, 7.78517610e-01, 9.20974242e-01, 9.20974242e-01,\n",
       "       1.00000000e+00])"
      ]
     },
     "execution_count": 57,
     "metadata": {},
     "output_type": "execute_result"
    }
   ],
   "source": [
    "fpr\n",
    "#FPR=FP/FP+TN"
   ]
  },
  {
   "cell_type": "code",
   "execution_count": 58,
   "metadata": {},
   "outputs": [
    {
     "data": {
      "text/plain": [
       "array([0.        , 0.        , 0.        , 0.02777778, 0.02777778,\n",
       "       0.03703704, 0.03703704, 0.0462963 , 0.0462963 , 0.05555556,\n",
       "       0.05555556, 0.07407407, 0.07407407, 0.08333333, 0.08333333,\n",
       "       0.09259259, 0.09259259, 0.10185185, 0.10185185, 0.11111111,\n",
       "       0.11111111, 0.12037037, 0.12037037, 0.12962963, 0.12962963,\n",
       "       0.13888889, 0.13888889, 0.14814815, 0.14814815, 0.16666667,\n",
       "       0.16666667, 0.18518519, 0.18518519, 0.19444444, 0.19444444,\n",
       "       0.2037037 , 0.2037037 , 0.21296296, 0.21296296, 0.22222222,\n",
       "       0.22222222, 0.23148148, 0.23148148, 0.25      , 0.25      ,\n",
       "       0.25925926, 0.25925926, 0.26851852, 0.26851852, 0.27777778,\n",
       "       0.27777778, 0.28703704, 0.28703704, 0.2962963 , 0.2962963 ,\n",
       "       0.30555556, 0.30555556, 0.31481481, 0.31481481, 0.32407407,\n",
       "       0.32407407, 0.33333333, 0.33333333, 0.34259259, 0.34259259,\n",
       "       0.35185185, 0.35185185, 0.36111111, 0.36111111, 0.37037037,\n",
       "       0.37037037, 0.37962963, 0.37962963, 0.38888889, 0.38888889,\n",
       "       0.39814815, 0.39814815, 0.40740741, 0.40740741, 0.42592593,\n",
       "       0.42592593, 0.43518519, 0.43518519, 0.44444444, 0.44444444,\n",
       "       0.4537037 , 0.4537037 , 0.46296296, 0.46296296, 0.47222222,\n",
       "       0.47222222, 0.48148148, 0.48148148, 0.49074074, 0.49074074,\n",
       "       0.5       , 0.5       , 0.50925926, 0.50925926, 0.51851852,\n",
       "       0.51851852, 0.52777778, 0.52777778, 0.53703704, 0.53703704,\n",
       "       0.5462963 , 0.5462963 , 0.55555556, 0.55555556, 0.56481481,\n",
       "       0.56481481, 0.57407407, 0.57407407, 0.58333333, 0.58333333,\n",
       "       0.59259259, 0.59259259, 0.60185185, 0.60185185, 0.61111111,\n",
       "       0.61111111, 0.62037037, 0.62037037, 0.62962963, 0.62962963,\n",
       "       0.63888889, 0.63888889, 0.64814815, 0.64814815, 0.65740741,\n",
       "       0.65740741, 0.66666667, 0.66666667, 0.67592593, 0.67592593,\n",
       "       0.68518519, 0.68518519, 0.69444444, 0.69444444, 0.7037037 ,\n",
       "       0.7037037 , 0.71296296, 0.71296296, 0.72222222, 0.72222222,\n",
       "       0.73148148, 0.73148148, 0.74074074, 0.74074074, 0.75      ,\n",
       "       0.75      , 0.75925926, 0.75925926, 0.76851852, 0.76851852,\n",
       "       0.77777778, 0.77777778, 0.78703704, 0.78703704, 0.7962963 ,\n",
       "       0.7962963 , 0.80555556, 0.80555556, 0.81481481, 0.81481481,\n",
       "       0.82407407, 0.82407407, 0.83333333, 0.83333333, 0.84259259,\n",
       "       0.84259259, 0.85185185, 0.85185185, 0.86111111, 0.86111111,\n",
       "       0.87037037, 0.87037037, 0.87962963, 0.87962963, 0.88888889,\n",
       "       0.88888889, 0.89814815, 0.89814815, 0.90740741, 0.90740741,\n",
       "       0.91666667, 0.91666667, 0.92592593, 0.92592593, 0.93518519,\n",
       "       0.93518519, 0.94444444, 0.94444444, 0.9537037 , 0.9537037 ,\n",
       "       0.96296296, 0.96296296, 0.97222222, 0.97222222, 0.98148148,\n",
       "       0.98148148, 0.99074074, 0.99074074, 1.        , 1.        ])"
      ]
     },
     "execution_count": 58,
     "metadata": {},
     "output_type": "execute_result"
    }
   ],
   "source": [
    "tpr\n",
    "#TPR=TP/TP+FN, FN is False negative and TP is true Positive"
   ]
  },
  {
   "cell_type": "code",
   "execution_count": 59,
   "metadata": {},
   "outputs": [
    {
     "data": {
      "text/plain": [
       "array([1.28389938e+00, 2.83899376e-01, 2.42698040e-01, 1.91967353e-01,\n",
       "       1.61427765e-01, 1.55010817e-01, 1.53105255e-01, 1.52281269e-01,\n",
       "       1.52261149e-01, 1.52207616e-01, 1.49744028e-01, 1.45171430e-01,\n",
       "       1.34137854e-01, 1.33841599e-01, 1.29619368e-01, 1.29298761e-01,\n",
       "       1.17961252e-01, 1.17822870e-01, 1.12946258e-01, 1.12935313e-01,\n",
       "       1.07028791e-01, 1.06912783e-01, 1.04892481e-01, 1.04463677e-01,\n",
       "       1.03767930e-01, 1.03660639e-01, 1.00876461e-01, 1.00698843e-01,\n",
       "       9.65762693e-02, 9.64119906e-02, 9.46815568e-02, 9.44387212e-02,\n",
       "       9.37651312e-02, 9.36970444e-02, 9.07713573e-02, 9.06799582e-02,\n",
       "       8.79365344e-02, 8.79337882e-02, 8.78968100e-02, 8.76594999e-02,\n",
       "       8.76391591e-02, 8.75921368e-02, 8.47256802e-02, 8.42940802e-02,\n",
       "       8.35782183e-02, 8.34314427e-02, 8.27796105e-02, 8.24075678e-02,\n",
       "       7.93864989e-02, 7.93747583e-02, 7.87912100e-02, 7.84546658e-02,\n",
       "       7.28680192e-02, 7.28181423e-02, 7.27865401e-02, 7.23668970e-02,\n",
       "       7.11548350e-02, 7.10689253e-02, 7.02600101e-02, 7.00000731e-02,\n",
       "       6.84192395e-02, 6.84093177e-02, 6.68112567e-02, 6.67679898e-02,\n",
       "       6.58165881e-02, 6.57987103e-02, 6.49039854e-02, 6.48296166e-02,\n",
       "       6.30017689e-02, 6.27685260e-02, 6.23373440e-02, 6.21755395e-02,\n",
       "       6.10115044e-02, 6.09137217e-02, 6.06872973e-02, 6.06162204e-02,\n",
       "       5.90777125e-02, 5.90697361e-02, 5.86596569e-02, 5.85637365e-02,\n",
       "       5.82133903e-02, 5.81285862e-02, 5.81044071e-02, 5.80865213e-02,\n",
       "       5.72785876e-02, 5.72218201e-02, 5.62096537e-02, 5.61036396e-02,\n",
       "       5.27238075e-02, 5.27192182e-02, 5.24718976e-02, 5.24617288e-02,\n",
       "       5.22368079e-02, 5.21960383e-02, 5.18736027e-02, 5.18644971e-02,\n",
       "       5.16653892e-02, 5.16063543e-02, 5.12367321e-02, 5.12015967e-02,\n",
       "       5.02102822e-02, 5.02005339e-02, 5.00934010e-02, 5.00764455e-02,\n",
       "       4.98558531e-02, 4.96269654e-02, 4.92174450e-02, 4.90222211e-02,\n",
       "       4.75335472e-02, 4.74427438e-02, 4.47634942e-02, 4.46785216e-02,\n",
       "       4.42786732e-02, 4.41138866e-02, 4.35689156e-02, 4.35492549e-02,\n",
       "       4.25428450e-02, 4.23387062e-02, 4.23176033e-02, 4.23056236e-02,\n",
       "       4.20792218e-02, 4.17606270e-02, 4.15299520e-02, 4.14623225e-02,\n",
       "       4.10764233e-02, 4.09942343e-02, 3.92368426e-02, 3.92284567e-02,\n",
       "       3.87885605e-02, 3.87708271e-02, 3.82403931e-02, 3.81953604e-02,\n",
       "       3.64839708e-02, 3.64525386e-02, 3.60122163e-02, 3.59574950e-02,\n",
       "       3.50439019e-02, 3.50216424e-02, 3.29172980e-02, 3.28752903e-02,\n",
       "       3.02449580e-02, 3.02240022e-02, 2.90652543e-02, 2.90580094e-02,\n",
       "       2.87997848e-02, 2.87937024e-02, 2.65064562e-02, 2.64778622e-02,\n",
       "       2.59040680e-02, 2.59031497e-02, 2.49878480e-02, 2.49847319e-02,\n",
       "       2.48954847e-02, 2.48171515e-02, 2.39299593e-02, 2.39067220e-02,\n",
       "       2.32477448e-02, 2.32101962e-02, 2.31670118e-02, 2.31632616e-02,\n",
       "       2.24833019e-02, 2.24266123e-02, 2.10777214e-02, 2.10538506e-02,\n",
       "       1.92883610e-02, 1.92877945e-02, 1.90995353e-02, 1.90906480e-02,\n",
       "       1.82157843e-02, 1.82138711e-02, 1.34880695e-02, 1.34793548e-02,\n",
       "       1.32694673e-02, 1.32636407e-02, 1.31109488e-02, 1.31078492e-02,\n",
       "       1.22211928e-02, 1.22209150e-02, 1.12581324e-02, 1.12572656e-02,\n",
       "       1.03855867e-02, 1.03749408e-02, 1.01980332e-02, 1.01789243e-02,\n",
       "       8.71192842e-03, 8.69922544e-03, 8.21871009e-03, 8.21811905e-03,\n",
       "       6.58058572e-03, 6.57692375e-03, 5.91965385e-03, 5.91919944e-03,\n",
       "       5.82409745e-03, 5.82113618e-03, 5.58730179e-03, 5.58424637e-03,\n",
       "       4.67277314e-03, 4.66243182e-03, 3.29027596e-03, 3.28998689e-03,\n",
       "       1.48374741e-03, 1.48256122e-03, 4.86665512e-04, 4.84748811e-04,\n",
       "       6.29304477e-05])"
      ]
     },
     "execution_count": 59,
     "metadata": {},
     "output_type": "execute_result"
    }
   ],
   "source": [
    "thersholds"
   ]
  },
  {
   "cell_type": "code",
   "execution_count": 60,
   "metadata": {},
   "outputs": [
    {
     "data": {
      "image/png": "[encoded data removed]",
      "text/plain": [
       "<Figure size 432x288 with 1 Axes>"
      ]
     },
     "metadata": {
      "needs_background": "light"
     },
     "output_type": "display_data"
    }
   ],
   "source": [
    "plt.plot([0,1],[0,1],\"k--\")\n",
    "plt.plot(fpr,tpr,label=\"Logistic Regression\")\n",
    "plt.xlabel(\"False Positive Rate\")\n",
    "plt.ylabel(\"True Positive Rate\")\n",
    "plt.title(\"Logistic Regression\")\n",
    "plt.show()"
   ]
  },
  {
   "cell_type": "code",
   "execution_count": 61,
   "metadata": {},
   "outputs": [],
   "source": [
    "auc_score=roc_auc_score(y_test,lg.predict(x_test))"
   ]
  },
  {
   "cell_type": "code",
   "execution_count": 62,
   "metadata": {},
   "outputs": [
    {
     "data": {
      "text/plain": [
       "0.5"
      ]
     },
     "execution_count": 62,
     "metadata": {},
     "output_type": "execute_result"
    }
   ],
   "source": [
    "auc_score"
   ]
  },
  {
   "cell_type": "code",
   "execution_count": 63,
   "metadata": {},
   "outputs": [],
   "source": [
    "from sklearn.neighbors import KNeighborsClassifier\n"
   ]
  },
  {
   "cell_type": "code",
   "execution_count": 64,
   "metadata": {},
   "outputs": [
    {
     "data": {
      "text/plain": [
       "KNeighborsClassifier()"
      ]
     },
     "execution_count": 64,
     "metadata": {},
     "output_type": "execute_result"
    }
   ],
   "source": [
    "knn=KNeighborsClassifier()\n",
    "knn.fit(x_train,y_train)"
   ]
  },
  {
   "cell_type": "code",
   "execution_count": 65,
   "metadata": {},
   "outputs": [
    {
     "data": {
      "text/plain": [
       "array([0, 0, 0, ..., 0, 0, 0], dtype=int64)"
      ]
     },
     "execution_count": 65,
     "metadata": {},
     "output_type": "execute_result"
    }
   ],
   "source": [
    "predknn=knn.predict(x_test)\n",
    "predknn"
   ]
  },
  {
   "cell_type": "code",
   "execution_count": 66,
   "metadata": {},
   "outputs": [
    {
     "data": {
      "text/plain": [
       "0.9812553740326742"
      ]
     },
     "execution_count": 66,
     "metadata": {},
     "output_type": "execute_result"
    }
   ],
   "source": [
    "accuracy_score(y_test,predknn)"
   ]
  },
  {
   "cell_type": "code",
   "execution_count": 67,
   "metadata": {},
   "outputs": [],
   "source": [
    "from sklearn.tree import DecisionTreeClassifier"
   ]
  },
  {
   "cell_type": "code",
   "execution_count": 68,
   "metadata": {},
   "outputs": [],
   "source": [
    "dtc=DecisionTreeClassifier(criterion=\"gini\")"
   ]
  },
  {
   "cell_type": "code",
   "execution_count": 69,
   "metadata": {},
   "outputs": [
    {
     "data": {
      "text/plain": [
       "DecisionTreeClassifier()"
      ]
     },
     "execution_count": 69,
     "metadata": {},
     "output_type": "execute_result"
    }
   ],
   "source": [
    "dtc.fit(x_train,y_train)"
   ]
  },
  {
   "cell_type": "code",
   "execution_count": 70,
   "metadata": {},
   "outputs": [],
   "source": [
    " preddtc=dtc.predict(x_test)"
   ]
  },
  {
   "cell_type": "code",
   "execution_count": 71,
   "metadata": {},
   "outputs": [
    {
     "data": {
      "text/plain": [
       "0.9582115219260533"
      ]
     },
     "execution_count": 71,
     "metadata": {},
     "output_type": "execute_result"
    }
   ],
   "source": [
    "accuracy_score(y_test,preddtc)"
   ]
  },
  {
   "cell_type": "code",
   "execution_count": 72,
   "metadata": {},
   "outputs": [],
   "source": [
    "from sklearn.svm import SVC"
   ]
  },
  {
   "cell_type": "code",
   "execution_count": 73,
   "metadata": {},
   "outputs": [
    {
     "data": {
      "text/plain": [
       "SVC()"
      ]
     },
     "execution_count": 73,
     "metadata": {},
     "output_type": "execute_result"
    }
   ],
   "source": [
    "sv=SVC(kernel=\"rbf\")\n",
    "sv.fit(x_train,y_train)"
   ]
  },
  {
   "cell_type": "code",
   "execution_count": 74,
   "metadata": {},
   "outputs": [],
   "source": [
    "predictsvc=sv.predict(x_test)"
   ]
  },
  {
   "cell_type": "code",
   "execution_count": 75,
   "metadata": {},
   "outputs": [
    {
     "data": {
      "text/plain": [
       "array([0, 0, 0, ..., 0, 0, 0], dtype=int64)"
      ]
     },
     "execution_count": 75,
     "metadata": {},
     "output_type": "execute_result"
    }
   ],
   "source": [
    "predictsvc"
   ]
  },
  {
   "cell_type": "code",
   "execution_count": 76,
   "metadata": {},
   "outputs": [
    {
     "data": {
      "text/plain": [
       "0.9814273430782459"
      ]
     },
     "execution_count": 76,
     "metadata": {},
     "output_type": "execute_result"
    }
   ],
   "source": [
    "accuracy_score(y_test,predictsvc)"
   ]
  },
  {
   "cell_type": "code",
   "execution_count": null,
   "metadata": {},
   "outputs": [],
   "source": [
    "# So SVC, Logit, KNN have same accuracy rate. So these three models are best fit to predict heart stroke."
   ]
  }
 ],
 "metadata": {
  "kernelspec": {
   "display_name": "Python 3",
   "language": "python",
   "name": "python3"
  },
  "language_info": {
   "codemirror_mode": {
    "name": "ipython",
    "version": 3
   },
   "file_extension": ".py",
   "mimetype": "text/x-python",
   "name": "python",
   "nbconvert_exporter": "python",
   "pygments_lexer": "ipython3",
   "version": "3.8.5"
  }
 },
 "nbformat": 4,
 "nbformat_minor": 4
}
